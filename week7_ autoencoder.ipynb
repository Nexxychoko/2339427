{
 "cells": [
  {
   "cell_type": "markdown",
   "metadata": {
    "id": "VB9pbERmm8IZ"
   },
   "source": [
    "\n",
    "# Simple AutoEncoders with Image Data\n",
    "\n",
    "Here is a simple autoencoder with just the dense layers."
   ]
  },
  {
   "cell_type": "markdown",
   "metadata": {
    "id": "LlxN-eb5m8Ia"
   },
   "source": [
    "Load the data and import the libraries."
   ]
  },
  {
   "cell_type": "code",
   "execution_count": 1,
   "metadata": {
    "id": "MGqNWU6Ym8Ia"
   },
   "outputs": [],
   "source": [
    "# Import relevant Libraries\n",
    "\n",
    "import pandas as pd\n",
    "import numpy as np\n",
    "import matplotlib.pyplot as plt"
   ]
  },
  {
   "cell_type": "code",
   "execution_count": 2,
   "metadata": {},
   "outputs": [
    {
     "name": "stdout",
     "output_type": "stream",
     "text": [
      "WARNING:tensorflow:From C:\\Users\\User\\anaconda3\\Lib\\site-packages\\keras\\src\\losses.py:2976: The name tf.losses.sparse_softmax_cross_entropy is deprecated. Please use tf.compat.v1.losses.sparse_softmax_cross_entropy instead.\n",
      "\n"
     ]
    }
   ],
   "source": [
    "import tensorflow as tf\n",
    "from tensorflow import keras"
   ]
  },
  {
   "cell_type": "code",
   "execution_count": 3,
   "metadata": {},
   "outputs": [
    {
     "name": "stdout",
     "output_type": "stream",
     "text": [
      "2.15.0\n"
     ]
    }
   ],
   "source": [
    "print(tf.__version__)"
   ]
  },
  {
   "cell_type": "code",
   "execution_count": 4,
   "metadata": {},
   "outputs": [],
   "source": [
    "from keras.layers import Input, Dense\n",
    "from keras.models import Model\n",
    "\n",
    "from keras.datasets import mnist"
   ]
  },
  {
   "cell_type": "code",
   "execution_count": 5,
   "metadata": {
    "id": "db4OX9Bdm8Ib"
   },
   "outputs": [],
   "source": [
    "\n",
    "# Load MNIST data and store it in variables x_train, x_test. Note -  we do not need labels as it's autoencoder.\n",
    "\n",
    "(x_train, _), (x_test, _) = mnist.load_data()"
   ]
  },
  {
   "cell_type": "code",
   "execution_count": 6,
   "metadata": {
    "colab": {
     "base_uri": "https://localhost:8080/",
     "height": 129
    },
    "id": "Y9VG7JbKm8Ic",
    "outputId": "d416dcff-0379-429e-ccaa-4817b49adfe2"
   },
   "outputs": [
    {
     "data": {
      "image/png": "[encoded data removed]",
      "text/plain": [
       "<Figure size 2000x400 with 10 Axes>"
      ]
     },
     "metadata": {},
     "output_type": "display_data"
    }
   ],
   "source": [
    "# Plot a few data points\n",
    "%matplotlib inline\n",
    "\n",
    "n = 10  # Number of records that will display\n",
    "plt.figure(figsize=(20, 4))\n",
    "for i in range(n):\n",
    "    # display original\n",
    "    ax = plt.subplot(2, n, i + 1)\n",
    "    plt.imshow(x_test[i].reshape(28, 28))\n",
    "    plt.gray()\n",
    "    ax.get_xaxis().set_visible(False)\n",
    "    ax.get_yaxis().set_visible(False)\n",
    "\n",
    "plt.show()"
   ]
  },
  {
   "cell_type": "code",
   "execution_count": 7,
   "metadata": {
    "id": "l7J4pLFUm8Ic"
   },
   "outputs": [],
   "source": [
    "# Normalize train data - Divide by 255\n",
    "# Normalize test data - Divide by 255\n",
    "\n",
    "x_train = x_train/25\n",
    "x_test  = x_test/255"
   ]
  },
  {
   "cell_type": "code",
   "execution_count": 8,
   "metadata": {},
   "outputs": [
    {
     "data": {
      "text/plain": [
       "1.0"
      ]
     },
     "execution_count": 8,
     "metadata": {},
     "output_type": "execute_result"
    }
   ],
   "source": [
    "x_test.max()"
   ]
  },
  {
   "cell_type": "markdown",
   "metadata": {
    "id": "iN3Dtyymm8Ic"
   },
   "source": [
    "## Basic AutoEncoder\n",
    "\n",
    "Build a basic symmetric encoder-decoder network that recreates the image.  This network could be used in dimensionaliry reduction or feature learning. "
   ]
  },
  {
   "cell_type": "code",
   "execution_count": 9,
   "metadata": {},
   "outputs": [],
   "source": [
    "from tensorflow.keras.models import Sequential\n",
    "from tensorflow.keras.layers import Dense,Flatten,Reshape\n",
    "from tensorflow.keras.optimizers import SGD"
   ]
  },
  {
   "cell_type": "code",
   "execution_count": 10,
   "metadata": {
    "id": "sZ0Haczem8Id"
   },
   "outputs": [
    {
     "name": "stdout",
     "output_type": "stream",
     "text": [
      "WARNING:tensorflow:From C:\\Users\\User\\anaconda3\\Lib\\site-packages\\keras\\src\\backend.py:873: The name tf.get_default_graph is deprecated. Please use tf.compat.v1.get_default_graph instead.\n",
      "\n"
     ]
    }
   ],
   "source": [
    "encoder = Sequential()\n",
    "encoder.add(Flatten(input_shape=[28,28]))\n",
    "\n",
    "#\n",
    "# Add as many hidden layers in the encoder network of your choise\n",
    "encoder.add(Dense(400,activation='relu'))\n",
    "encoder.add(Dense(200,activation='relu'))\n",
    "encoder.add(Dense(100,activation='relu'))\n",
    "encoder.add(Dense(50,activation='relu'))\n",
    "encoder.add(Dense(25,activation='relu'))\n",
    "\n",
    "\n",
    "# The last TWO layers of the encoder and decoder must be matched (see the following decoder cell.\n",
    "#"
   ]
  },
  {
   "cell_type": "code",
   "execution_count": 11,
   "metadata": {},
   "outputs": [
    {
     "name": "stdout",
     "output_type": "stream",
     "text": [
      "Model: \"sequential\"\n",
      "_________________________________________________________________\n",
      " Layer (type)                Output Shape              Param #   \n",
      "=================================================================\n",
      " flatten (Flatten)           (None, 784)               0         \n",
      "                                                                 \n",
      " dense (Dense)               (None, 400)               314000    \n",
      "                                                                 \n",
      " dense_1 (Dense)             (None, 200)               80200     \n",
      "                                                                 \n",
      " dense_2 (Dense)             (None, 100)               20100     \n",
      "                                                                 \n",
      " dense_3 (Dense)             (None, 50)                5050      \n",
      "                                                                 \n",
      " dense_4 (Dense)             (None, 25)                1275      \n",
      "                                                                 \n",
      "=================================================================\n",
      "Total params: 420625 (1.60 MB)\n",
      "Trainable params: 420625 (1.60 MB)\n",
      "Non-trainable params: 0 (0.00 Byte)\n",
      "_________________________________________________________________\n",
      "None\n"
     ]
    }
   ],
   "source": [
    "print(encoder.summary())"
   ]
  },
  {
   "cell_type": "code",
   "execution_count": 12,
   "metadata": {},
   "outputs": [],
   "source": [
    "# print the encoder model\n"
   ]
  },
  {
   "cell_type": "code",
   "execution_count": 13,
   "metadata": {
    "id": "bWkuLDpjm8Id"
   },
   "outputs": [],
   "source": [
    "decoder = Sequential()\n",
    "decoder.add(Dense(50,input_shape=[25],activation='relu'))\n",
    "\n",
    "#\n",
    "# Add as many layers in the decoder as you want. Reember - Encoder and decoder need to be symmetric.\n",
    "decoder.add(Dense(100,activation='relu'))\n",
    "decoder.add(Dense(200,activation='relu'))\n",
    "decoder.add(Dense(400,activation='relu'))\n",
    "#decoder.add(Dense(784,activation='relu'))\n",
    "\n",
    "decoder.add(Dense(28 * 28, activation=\"sigmoid\"))\n",
    "decoder.add(Reshape([28, 28]))"
   ]
  },
  {
   "cell_type": "code",
   "execution_count": 14,
   "metadata": {},
   "outputs": [
    {
     "name": "stdout",
     "output_type": "stream",
     "text": [
      "Model: \"sequential_1\"\n",
      "_________________________________________________________________\n",
      " Layer (type)                Output Shape              Param #   \n",
      "=================================================================\n",
      " dense_5 (Dense)             (None, 50)                1300      \n",
      "                                                                 \n",
      " dense_6 (Dense)             (None, 100)               5100      \n",
      "                                                                 \n",
      " dense_7 (Dense)             (None, 200)               20200     \n",
      "                                                                 \n",
      " dense_8 (Dense)             (None, 400)               80400     \n",
      "                                                                 \n",
      " dense_9 (Dense)             (None, 784)               314384    \n",
      "                                                                 \n",
      " reshape (Reshape)           (None, 28, 28)            0         \n",
      "                                                                 \n",
      "=================================================================\n",
      "Total params: 421384 (1.61 MB)\n",
      "Trainable params: 421384 (1.61 MB)\n",
      "Non-trainable params: 0 (0.00 Byte)\n",
      "_________________________________________________________________\n",
      "None\n"
     ]
    }
   ],
   "source": [
    "# print the decoder model\n",
    "print(decoder.summary())"
   ]
  },
  {
   "cell_type": "code",
   "execution_count": 15,
   "metadata": {
    "id": "Iic4UbbXm8Id"
   },
   "outputs": [],
   "source": [
    "autoencoder = Sequential([encoder, decoder]) # Combine encoder and decoder together.\n"
   ]
  },
  {
   "cell_type": "code",
   "execution_count": 16,
   "metadata": {},
   "outputs": [
    {
     "name": "stdout",
     "output_type": "stream",
     "text": [
      "Model: \"sequential_2\"\n",
      "_________________________________________________________________\n",
      " Layer (type)                Output Shape              Param #   \n",
      "=================================================================\n",
      " sequential (Sequential)     (None, 25)                420625    \n",
      "                                                                 \n",
      " sequential_1 (Sequential)   (None, 28, 28)            421384    \n",
      "                                                                 \n",
      "=================================================================\n",
      "Total params: 842009 (3.21 MB)\n",
      "Trainable params: 842009 (3.21 MB)\n",
      "Non-trainable params: 0 (0.00 Byte)\n",
      "_________________________________________________________________\n",
      "None\n"
     ]
    }
   ],
   "source": [
    "# print the autoencoder model\n",
    "print (autoencoder.summary())"
   ]
  },
  {
   "cell_type": "code",
   "execution_count": 17,
   "metadata": {},
   "outputs": [],
   "source": [
    "#SGD?"
   ]
  },
  {
   "cell_type": "code",
   "execution_count": 18,
   "metadata": {
    "id": "Vps8w9u-m8Id"
   },
   "outputs": [
    {
     "name": "stdout",
     "output_type": "stream",
     "text": [
      "WARNING:tensorflow:From C:\\Users\\User\\anaconda3\\Lib\\site-packages\\keras\\src\\optimizers\\__init__.py:309: The name tf.train.Optimizer is deprecated. Please use tf.compat.v1.train.Optimizer instead.\n",
      "\n"
     ]
    }
   ],
   "source": [
    "# Compile the autoencoder. Use binary_crossenropy as loss and metrics as accuracy.\n",
    "autoencoder.compile(loss='binary_crossentropy', optimizer='adam', metrics=['accuracy'])\n",
    "\n",
    "#autoencoder.compile(loss='binary_crossentropy',) optimizer=SGD(learning_rate=1,5), metrics=['accuracy']\n",
    "#The learning_rate. Defaults to 0.001."
   ]
  },
  {
   "cell_type": "code",
   "execution_count": 19,
   "metadata": {},
   "outputs": [
    {
     "name": "stdout",
     "output_type": "stream",
     "text": [
      "Epoch 1/10\n",
      "WARNING:tensorflow:From C:\\Users\\User\\anaconda3\\Lib\\site-packages\\keras\\src\\utils\\tf_utils.py:492: The name tf.ragged.RaggedTensorValue is deprecated. Please use tf.compat.v1.ragged.RaggedTensorValue instead.\n",
      "\n",
      "WARNING:tensorflow:From C:\\Users\\User\\anaconda3\\Lib\\site-packages\\keras\\src\\engine\\base_layer_utils.py:384: The name tf.executing_eagerly_outside_functions is deprecated. Please use tf.compat.v1.executing_eagerly_outside_functions instead.\n",
      "\n",
      "1875/1875 [==============================] - 28s 13ms/step - loss: -11.9285 - accuracy: 0.0970 - val_loss: 5.1188 - val_accuracy: 0.0176\n",
      "Epoch 2/10\n",
      "1875/1875 [==============================] - 21s 11ms/step - loss: -11.9300 - accuracy: 0.0878 - val_loss: 5.1189 - val_accuracy: 0.0176\n",
      "Epoch 3/10\n",
      "1875/1875 [==============================] - 24s 13ms/step - loss: -11.9300 - accuracy: 0.0879 - val_loss: 5.1189 - val_accuracy: 0.0176\n",
      "Epoch 4/10\n",
      "1875/1875 [==============================] - 23s 12ms/step - loss: -11.9300 - accuracy: 0.0882 - val_loss: 5.1190 - val_accuracy: 0.0176\n",
      "Epoch 5/10\n",
      "1875/1875 [==============================] - 21s 11ms/step - loss: -11.9300 - accuracy: 0.0886 - val_loss: 5.1190 - val_accuracy: 0.0176\n",
      "Epoch 6/10\n",
      "1875/1875 [==============================] - 21s 11ms/step - loss: -11.9300 - accuracy: 0.0896 - val_loss: 5.1191 - val_accuracy: 0.0176\n",
      "Epoch 7/10\n",
      "1875/1875 [==============================] - 23s 12ms/step - loss: -11.9300 - accuracy: 0.0908 - val_loss: 5.1191 - val_accuracy: 0.0176\n",
      "Epoch 8/10\n",
      "1875/1875 [==============================] - 22s 12ms/step - loss: -11.9300 - accuracy: 0.0921 - val_loss: 5.1192 - val_accuracy: 0.0176\n",
      "Epoch 9/10\n",
      "1875/1875 [==============================] - 22s 12ms/step - loss: -11.9300 - accuracy: 0.0933 - val_loss: 5.1192 - val_accuracy: 0.0176\n",
      "Epoch 10/10\n",
      "1875/1875 [==============================] - 24s 13ms/step - loss: -11.9300 - accuracy: 0.0939 - val_loss: 5.1192 - val_accuracy: 0.0176\n"
     ]
    }
   ],
   "source": [
    "# Fit the autoencoder. Note - Input and output are same. x_train is your train data, x_test is your validation data.\n",
    "\n",
    "history =autoencoder.fit(x_train, x_train, epochs=10, validation_data=(x_test, x_test))\n"
   ]
  },
  {
   "cell_type": "code",
   "execution_count": 20,
   "metadata": {
    "colab": {
     "base_uri": "https://localhost:8080/",
     "height": 266
    },
    "id": "8qa1dlv0m8Ie",
    "outputId": "496b16b2-d0dc-41d0-866d-f72db6611aad"
   },
   "outputs": [
    {
     "name": "stdout",
     "output_type": "stream",
     "text": [
      "313/313 [==============================] - 2s 4ms/step\n"
     ]
    },
    {
     "data": {
      "image/png": "[encoded data removed]",
      "text/plain": [
       "<Figure size 2000x400 with 20 Axes>"
      ]
     },
     "metadata": {},
     "output_type": "display_data"
    }
   ],
   "source": [
    "# Check a few sample images.\n",
    "decoded_imgs = autoencoder.predict(x_test)\n",
    "\n",
    "n = 10\n",
    "\n",
    "plt.figure(figsize=(20, 4))\n",
    "\n",
    "for i in range(n):\n",
    "    # \n",
    "    # Display original image - Just line sample code provided earlier.\n",
    "    ax = plt.subplot(2, n, i + 1)\n",
    "    plt.imshow(x_test[i].reshape(28, 28))\n",
    "    plt.gray()\n",
    "    ax.get_xaxis().set_visible(False)\n",
    "    ax.get_yaxis().set_visible(False)\n",
    "\n",
    "    \n",
    "    # Display reconstruced (decoded) images. You need to slightly change your code.\n",
    "    ax = plt.subplot(2, n, i+1+n)\n",
    "    plt.imshow(decoded_imgs[i].reshape(28, 28))\n",
    "    plt.gray()\n",
    "    ax.get_xaxis().set_visible(False)\n",
    "    ax.get_yaxis().set_visible(False)\n",
    "\n",
    "plt.show()"
   ]
  },
  {
   "cell_type": "markdown",
   "metadata": {
    "id": "uBRgywR9m8Ie"
   },
   "source": [
    "# AutoEncoders for Denoising Images\n",
    "\n",
    "Use the same digit data set. Add Gaussian noise to it to train an autoencoder that removes noise. Test the noisy samples. "
   ]
  },
  {
   "cell_type": "code",
   "execution_count": 21,
   "metadata": {
    "id": "OdDjYQC5m8Ie"
   },
   "outputs": [],
   "source": [
    "from tensorflow.keras.layers import GaussianNoise"
   ]
  },
  {
   "cell_type": "code",
   "execution_count": 22,
   "metadata": {
    "id": "da3tX601m8Ie"
   },
   "outputs": [],
   "source": [
    "sample = GaussianNoise(0.2)\n",
    "noisey = sample(x_test[0:2],training=True)"
   ]
  },
  {
   "cell_type": "code",
   "execution_count": 23,
   "metadata": {
    "colab": {
     "base_uri": "https://localhost:8080/",
     "height": 283
    },
    "id": "QrTuAs-Hm8Ie",
    "outputId": "5e85506e-6980-4470-b322-eaf6c911bba5"
   },
   "outputs": [
    {
     "data": {
      "text/plain": [
       "<matplotlib.image.AxesImage at 0x2b7057daf10>"
      ]
     },
     "execution_count": 23,
     "metadata": {},
     "output_type": "execute_result"
    },
    {
     "data": {
      "image/png": "[encoded data removed]",
      "text/plain": [
       "<Figure size 640x480 with 1 Axes>"
      ]
     },
     "metadata": {},
     "output_type": "display_data"
    }
   ],
   "source": [
    "plt.imshow(x_test[0])"
   ]
  },
  {
   "cell_type": "code",
   "execution_count": 24,
   "metadata": {
    "colab": {
     "base_uri": "https://localhost:8080/",
     "height": 283
    },
    "id": "-O6S5HhSm8If",
    "outputId": "3b2e48c8-b14d-4080-869d-734844ce5ac1"
   },
   "outputs": [
    {
     "data": {
      "text/plain": [
       "<matplotlib.image.AxesImage at 0x2b7057c8610>"
      ]
     },
     "execution_count": 24,
     "metadata": {},
     "output_type": "execute_result"
    },
    {
     "data": {
      "image/png": "[encoded data removed]",
      "text/plain": [
       "<Figure size 640x480 with 1 Axes>"
      ]
     },
     "metadata": {},
     "output_type": "display_data"
    }
   ],
   "source": [
    "plt.imshow(noisey[0])"
   ]
  },
  {
   "cell_type": "markdown",
   "metadata": {
    "id": "PCnzI8Mrm8If"
   },
   "source": [
    "### Create  noise removal autoencoder and train it.\n",
    "\n",
    "# Input - Images with noise\n",
    "# Labels - Clean images."
   ]
  },
  {
   "cell_type": "code",
   "execution_count": 25,
   "metadata": {
    "id": "sAwfn_Uqm8If"
   },
   "outputs": [
    {
     "name": "stdout",
     "output_type": "stream",
     "text": [
      "Model: \"sequential_3\"\n",
      "_________________________________________________________________\n",
      " Layer (type)                Output Shape              Param #   \n",
      "=================================================================\n",
      " flatten_1 (Flatten)         (None, 784)               0         \n",
      "                                                                 \n",
      " gaussian_noise_1 (Gaussian  (None, 784)               0         \n",
      " Noise)                                                          \n",
      "                                                                 \n",
      " dense_10 (Dense)            (None, 400)               314000    \n",
      "                                                                 \n",
      " dense_11 (Dense)            (None, 200)               80200     \n",
      "                                                                 \n",
      " dense_12 (Dense)            (None, 100)               20100     \n",
      "                                                                 \n",
      " dense_13 (Dense)            (None, 50)                5050      \n",
      "                                                                 \n",
      " dense_14 (Dense)            (None, 25)                1275      \n",
      "                                                                 \n",
      "=================================================================\n",
      "Total params: 420625 (1.60 MB)\n",
      "Trainable params: 420625 (1.60 MB)\n",
      "Non-trainable params: 0 (0.00 Byte)\n",
      "_________________________________________________________________\n",
      "None\n"
     ]
    }
   ],
   "source": [
    "\n",
    "encoder = Sequential()\n",
    "encoder.add(Flatten(input_shape=[28,28]))\n",
    "encoder.add(GaussianNoise(0.2)) # We are adding noise to make input as noisy image\n",
    "#\n",
    "# Add layers of encoder network. You could use same number of layers as earlier.\n",
    "encoder.add(Dense(400,activation='relu'))\n",
    "encoder.add(Dense(200,activation='relu'))\n",
    "encoder.add(Dense(100,activation='relu'))\n",
    "encoder.add(Dense(50,activation='relu'))\n",
    "encoder.add(Dense(25,activation='relu'))\n",
    "print(encoder.summary())\n"
   ]
  },
  {
   "cell_type": "code",
   "execution_count": 26,
   "metadata": {
    "id": "w51A8hiQm8If"
   },
   "outputs": [
    {
     "name": "stdout",
     "output_type": "stream",
     "text": [
      "Model: \"sequential_4\"\n",
      "_________________________________________________________________\n",
      " Layer (type)                Output Shape              Param #   \n",
      "=================================================================\n",
      " dense_15 (Dense)            (None, 50)                1300      \n",
      "                                                                 \n",
      " dense_16 (Dense)            (None, 100)               5100      \n",
      "                                                                 \n",
      " dense_17 (Dense)            (None, 200)               20200     \n",
      "                                                                 \n",
      " dense_18 (Dense)            (None, 400)               80400     \n",
      "                                                                 \n",
      " dense_19 (Dense)            (None, 784)               314384    \n",
      "                                                                 \n",
      " reshape_1 (Reshape)         (None, 28, 28)            0         \n",
      "                                                                 \n",
      "=================================================================\n",
      "Total params: 421384 (1.61 MB)\n",
      "Trainable params: 421384 (1.61 MB)\n",
      "Non-trainable params: 0 (0.00 Byte)\n",
      "_________________________________________________________________\n",
      "None\n"
     ]
    }
   ],
   "source": [
    "decoder = Sequential()\n",
    "decoder.add(Dense(50,input_shape=[25],activation='relu'))\n",
    "\n",
    "#\n",
    "# Add layers of decoder network. You could use same number of layers as earlier.\n",
    "decoder.add(Dense(100,activation='relu'))\n",
    "decoder.add(Dense(200,activation='relu'))\n",
    "decoder.add(Dense(400,activation='relu'))\n",
    "#decoder.add(Dense(784,activation='relu'))\n",
    "\n",
    "decoder.add(Dense(28 * 28, activation=\"sigmoid\"))\n",
    "decoder.add(Reshape([28, 28]))\n",
    "print(decoder.summary())"
   ]
  },
  {
   "cell_type": "code",
   "execution_count": 27,
   "metadata": {
    "id": "kHurlGFvm8If"
   },
   "outputs": [],
   "source": [
    "noise_remover = Sequential([encoder, decoder])"
   ]
  },
  {
   "cell_type": "code",
   "execution_count": 28,
   "metadata": {
    "id": "fpY3GDCBm8If"
   },
   "outputs": [],
   "source": [
    "# Compile the network as earlier\n",
    "noise_remover.compile(loss='binary_crossentropy', optimizer='adam', metrics=['accuracy'])\n"
   ]
  },
  {
   "cell_type": "code",
   "execution_count": 29,
   "metadata": {
    "scrolled": true
   },
   "outputs": [
    {
     "name": "stdout",
     "output_type": "stream",
     "text": [
      "Epoch 1/10\n",
      "1875/1875 [==============================] - 22s 12ms/step - loss: -11.9300 - accuracy: 0.0948 - val_loss: 5.1193 - val_accuracy: 0.0176\n",
      "Epoch 2/10\n",
      "1875/1875 [==============================] - 23s 12ms/step - loss: -11.9300 - accuracy: 0.0954 - val_loss: 5.1193 - val_accuracy: 0.0176\n",
      "Epoch 3/10\n",
      "1875/1875 [==============================] - 22s 12ms/step - loss: -11.9300 - accuracy: 0.0956 - val_loss: 5.1193 - val_accuracy: 0.0176\n",
      "Epoch 4/10\n",
      "1875/1875 [==============================] - 23s 12ms/step - loss: -11.9300 - accuracy: 0.0961 - val_loss: 5.1194 - val_accuracy: 0.0176\n",
      "Epoch 5/10\n",
      "1875/1875 [==============================] - 24s 13ms/step - loss: -11.9300 - accuracy: 0.0964 - val_loss: 5.1195 - val_accuracy: 0.0176\n",
      "Epoch 6/10\n",
      "1875/1875 [==============================] - 20s 11ms/step - loss: -11.9300 - accuracy: 0.0969 - val_loss: 5.1195 - val_accuracy: 0.0176\n",
      "Epoch 7/10\n",
      "1875/1875 [==============================] - 23s 12ms/step - loss: -11.9300 - accuracy: 0.0970 - val_loss: 5.1196 - val_accuracy: 0.0176\n",
      "Epoch 8/10\n",
      "1875/1875 [==============================] - 22s 12ms/step - loss: -11.9300 - accuracy: 0.0972 - val_loss: 5.1196 - val_accuracy: 0.0176\n",
      "Epoch 9/10\n",
      "1875/1875 [==============================] - 21s 11ms/step - loss: -11.9300 - accuracy: 0.0974 - val_loss: 5.1196 - val_accuracy: 0.0176\n",
      "Epoch 10/10\n",
      "1875/1875 [==============================] - 21s 11ms/step - loss: -11.9300 - accuracy: 0.0975 - val_loss: 5.1197 - val_accuracy: 0.0176\n"
     ]
    }
   ],
   "source": [
    "# Fit the network as earlier.\n",
    "history =autoencoder.fit(x_train, x_train, epochs=10, validation_data=(x_test, x_test))\n",
    "\n"
   ]
  },
  {
   "cell_type": "code",
   "execution_count": 30,
   "metadata": {
    "id": "rQXenyFYm8Ig"
   },
   "outputs": [],
   "source": [
    "ten_noisey_images = sample(x_test[0:10],training=True)\n",
    "denoised = noise_remover(ten_noisey_images[0:10])"
   ]
  },
  {
   "cell_type": "code",
   "execution_count": 31,
   "metadata": {
    "id": "2IJtMOcKm8Ig",
    "scrolled": true
   },
   "outputs": [
    {
     "name": "stdout",
     "output_type": "stream",
     "text": [
      "The Original\n"
     ]
    },
    {
     "data": {
      "image/png": "[encoded data removed]",
      "text/plain": [
       "<Figure size 640x480 with 1 Axes>"
      ]
     },
     "metadata": {},
     "output_type": "display_data"
    },
    {
     "name": "stdout",
     "output_type": "stream",
     "text": [
      "The Noisey Version\n"
     ]
    },
    {
     "data": {
      "image/png": "[encoded data removed]",
      "text/plain": [
       "<Figure size 640x480 with 1 Axes>"
      ]
     },
     "metadata": {},
     "output_type": "display_data"
    },
    {
     "name": "stdout",
     "output_type": "stream",
     "text": [
      "After going through denoiser\n"
     ]
    },
    {
     "data": {
      "image/png": "[encoded data removed]",
      "text/plain": [
       "<Figure size 640x480 with 1 Axes>"
      ]
     },
     "metadata": {},
     "output_type": "display_data"
    }
   ],
   "source": [
    "n = 4\n",
    "print(\"The Original\")\n",
    "plt.imshow(x_test[n])\n",
    "plt.show()\n",
    "\n",
    "\n",
    "print(\"The Noisey Version\")\n",
    "plt.imshow(ten_noisey_images[n])\n",
    "plt.show()\n",
    "\n",
    "\n",
    "print(\"After going through denoiser\")\n",
    "plt.imshow(denoised[n])\n",
    "plt.show()"
   ]
  },
  {
   "cell_type": "code",
   "execution_count": null,
   "metadata": {},
   "outputs": [],
   "source": []
  },
  {
   "cell_type": "markdown",
   "metadata": {},
   "source": [
    "## Lab Logbook requirement:\n",
    "\n",
    "- Put the model summary for task 1 in you lab logbook.\n",
    "\n",
    "Ensure that no code or other information is added to the logbook and that only required information is present.  Marks will not be awarded if anything else is found in the logbook or instructions are not clearly followed.\n",
    "\n",
    "NOTE: DON'T FORGET TO SAVE AND BACK UP YOUR COMPLETED JUPYTER NOTEBOOK AND LAB LOGBOOK ON GITHUB OR ONEDRIVE."
   ]
  }
 ],
 "metadata": {
  "colab": {
   "provenance": []
  },
  "kernelspec": {
   "display_name": "Python 3 (ipykernel)",
   "language": "python",
   "name": "python3"
  },
  "language_info": {
   "codemirror_mode": {
    "name": "ipython",
    "version": 3
   },
   "file_extension": ".py",
   "mimetype": "text/x-python",
   "name": "python",
   "nbconvert_exporter": "python",
   "pygments_lexer": "ipython3",
   "version": "3.11.5"
  }
 },
 "nbformat": 4,
 "nbformat_minor": 1
}
