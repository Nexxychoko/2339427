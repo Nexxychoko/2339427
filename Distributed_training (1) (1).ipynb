{
 "cells": [
  {
   "cell_type": "markdown",
   "metadata": {
    "id": "BAfJCaULD2Yp"
   },
   "source": [
    "# Distributed Training of Neural Network Models\n",
    "\n",
    "\n",
    "Below is the basic implementation of Federated Learning code for 2 clients and a server for one communication round using the MNIST dataset.\n",
    "\n",
    "Your task for this lab is to utilize this code as a benchmark and accomplish  the following objectives:\n",
    "\n",
    "1. Comment each section of the code to understand its functionality.\n",
    "\n",
    "2. Experiment with different neural network architectures, varying the number of layers and activation functions\n",
    "\n",
    "3. Assess the model's performance as the number of clients changes. Utilize 2, 4, 6, 8, and 10 clients, and plot a graph illustrating the model's performance across varying client counts.\n",
    "\n",
    "4. Introduce one dishonest client. For this client, assign some training labels ('y_train') to a specific label, such as '4'. Analyze how the performance ((accuracy, precision, recall, and f-score)) of the global model is affected by the presence of a dishonest client. Find approximately how many labels need to be maliciously altered so that the performance degrades."
   ]
  },
  {
   "cell_type": "code",
   "execution_count": 1,
   "metadata": {
    "id": "X1WEeIGSBKib"
   },
   "outputs": [
    {
     "name": "stdout",
     "output_type": "stream",
     "text": [
      "WARNING:tensorflow:From C:\\Users\\User\\anaconda3\\Lib\\site-packages\\keras\\src\\losses.py:2976: The name tf.losses.sparse_softmax_cross_entropy is deprecated. Please use tf.compat.v1.losses.sparse_softmax_cross_entropy instead.\n",
      "\n"
     ]
    }
   ],
   "source": [
    "import numpy as np\n",
    "import tensorflow as tf\n",
    "from tensorflow.keras.datasets import mnist\n",
    "from tensorflow.keras.models import Sequential\n",
    "from tensorflow.keras.layers import Dense, Flatten\n",
    "from tensorflow.keras.optimizers import SGD\n",
    "from sklearn.model_selection import train_test_split\n",
    "from keras import backend as K\n",
    "import random\n"
   ]
  },
  {
   "cell_type": "code",
   "execution_count": 2,
   "metadata": {
    "id": "622Y7KIIBKic"
   },
   "outputs": [
    {
     "name": "stdout",
     "output_type": "stream",
     "text": [
      "WARNING:tensorflow:From C:\\Users\\User\\anaconda3\\Lib\\site-packages\\keras\\src\\backend.py:277: The name tf.reset_default_graph is deprecated. Please use tf.compat.v1.reset_default_graph instead.\n",
      "\n"
     ]
    }
   ],
   "source": [
    "\n",
    "np.random.seed(2295528)\n",
    "\n",
    "random.seed(2295528)\n",
    "\n",
    "tf.random.set_seed(2295528)\n",
    "K.clear_session()"
   ]
  },
  {
   "cell_type": "code",
   "execution_count": 3,
   "metadata": {
    "colab": {
     "base_uri": "https://localhost:8080/"
    },
    "id": "NJouV8SUBKic",
    "outputId": "79076ba5-dae2-440c-91c4-7bf6b1d6e469"
   },
   "outputs": [],
   "source": [
    "# Load MNIST dataset\n",
    "(x_train, y_train), (x_test, y_test) = mnist.load_data()"
   ]
  },
  {
   "cell_type": "code",
   "execution_count": 4,
   "metadata": {
    "id": "ZwmIzkHCBKic"
   },
   "outputs": [],
   "source": [
    "# Normalize and reshape data\n",
    "x_train = x_train.astype('float32') / 255.0\n",
    "x_test = x_test.astype('float32') / 255.0\n",
    "x_train = np.expand_dims(x_train, -1)\n",
    "x_test = np.expand_dims(x_test, -1)"
   ]
  },
  {
   "cell_type": "code",
   "execution_count": 5,
   "metadata": {
    "id": "0JAip4FABKid"
   },
   "outputs": [],
   "source": [
    "# Define client functions\n",
    "def create_client_model():\n",
    "    model = Sequential([\n",
    "        Flatten(input_shape=(28, 28, 1)),\n",
    "        Dense(128, activation='relu'),\n",
    "        Dense(10, activation='softmax')\n",
    "    ])\n",
    "    model.compile(optimizer='adam', loss='sparse_categorical_crossentropy', metrics=['accuracy'])\n",
    "    return model\n",
    "\n",
    "def train_client_model(model, x_train, y_train, epochs=5):\n",
    "    model.fit(x_train, y_train, epochs=epochs,\n",
    "              #verbose=0,\n",
    "             verbose=1)\n",
    "    return model"
   ]
  },
  {
   "cell_type": "markdown",
   "metadata": {
    "id": "KC5ojCscBKid"
   },
   "source": [
    "## 2 Clients"
   ]
  },
  {
   "cell_type": "code",
   "execution_count": 6,
   "metadata": {
    "id": "OPSePl0qBKid"
   },
   "outputs": [],
   "source": [
    "# Split data into two clients\n",
    "x_train_c1, x_train_c2, y_train_c1, y_train_c2 = train_test_split(x_train, y_train, test_size=0.5,random_state= 42)"
   ]
  },
  {
   "cell_type": "code",
   "execution_count": 7,
   "metadata": {
    "colab": {
     "base_uri": "https://localhost:8080/"
    },
    "id": "wCf17ELvBKid",
    "outputId": "8db3b0ca-ef1d-4cc4-efa9-49cadf09b8d7"
   },
   "outputs": [
    {
     "name": "stdout",
     "output_type": "stream",
     "text": [
      "WARNING:tensorflow:From C:\\Users\\User\\anaconda3\\Lib\\site-packages\\keras\\src\\optimizers\\__init__.py:309: The name tf.train.Optimizer is deprecated. Please use tf.compat.v1.train.Optimizer instead.\n",
      "\n",
      "Epoch 1/5\n",
      "WARNING:tensorflow:From C:\\Users\\User\\anaconda3\\Lib\\site-packages\\keras\\src\\utils\\tf_utils.py:492: The name tf.ragged.RaggedTensorValue is deprecated. Please use tf.compat.v1.ragged.RaggedTensorValue instead.\n",
      "\n",
      "WARNING:tensorflow:From C:\\Users\\User\\anaconda3\\Lib\\site-packages\\keras\\src\\engine\\base_layer_utils.py:384: The name tf.executing_eagerly_outside_functions is deprecated. Please use tf.compat.v1.executing_eagerly_outside_functions instead.\n",
      "\n",
      "938/938 [==============================] - 11s 4ms/step - loss: 0.3422 - accuracy: 0.9039\n",
      "Epoch 2/5\n",
      "938/938 [==============================] - 3s 3ms/step - loss: 0.1599 - accuracy: 0.9532\n",
      "Epoch 3/5\n",
      "938/938 [==============================] - 4s 4ms/step - loss: 0.1123 - accuracy: 0.9677\n",
      "Epoch 4/5\n",
      "938/938 [==============================] - 4s 4ms/step - loss: 0.0834 - accuracy: 0.9748\n",
      "Epoch 5/5\n",
      "938/938 [==============================] - 4s 4ms/step - loss: 0.0630 - accuracy: 0.9823\n",
      "Epoch 1/5\n",
      "938/938 [==============================] - 4s 3ms/step - loss: 0.3451 - accuracy: 0.9020\n",
      "Epoch 2/5\n",
      "938/938 [==============================] - 2s 3ms/step - loss: 0.1639 - accuracy: 0.9530\n",
      "Epoch 3/5\n",
      "938/938 [==============================] - 5s 5ms/step - loss: 0.1149 - accuracy: 0.9662\n",
      "Epoch 4/5\n",
      "938/938 [==============================] - 5s 5ms/step - loss: 0.0837 - accuracy: 0.9752\n",
      "Epoch 5/5\n",
      "938/938 [==============================] - 5s 5ms/step - loss: 0.0638 - accuracy: 0.9814\n"
     ]
    }
   ],
   "source": [
    "# Create and train client models\n",
    "\n",
    "client1_model = create_client_model()\n",
    "client2_model = create_client_model()\n",
    "\n",
    "client1_model = train_client_model(client1_model, x_train_c1, y_train_c1)\n",
    "client2_model = train_client_model(client2_model, x_train_c2, y_train_c2)"
   ]
  },
  {
   "cell_type": "code",
   "execution_count": 8,
   "metadata": {
    "id": "Zd35Ea8ABKid"
   },
   "outputs": [],
   "source": [
    "# Federated averaging\n",
    "\n",
    "def federated_average_weights(weights1, weights2):\n",
    "    new_weights = []\n",
    "    for w1, w2 in zip(weights1, weights2):\n",
    "        new_weights.append((w1 + w2) / 2)\n",
    "    return new_weights"
   ]
  },
  {
   "cell_type": "code",
   "execution_count": 9,
   "metadata": {
    "id": "9JszWFQVBKid"
   },
   "outputs": [],
   "source": [
    "# Aggregate models\n",
    "\n",
    "aggregated_weights = federated_average_weights(client1_model.get_weights(), client2_model.get_weights())"
   ]
  },
  {
   "cell_type": "code",
   "execution_count": 10,
   "metadata": {
    "id": "uO-rktnFBKid"
   },
   "outputs": [],
   "source": [
    "# Create global model and set weights\n",
    "\n",
    "global_model = create_client_model()\n",
    "global_model.set_weights(aggregated_weights)"
   ]
  },
  {
   "cell_type": "code",
   "execution_count": 11,
   "metadata": {
    "colab": {
     "base_uri": "https://localhost:8080/"
    },
    "id": "Y2-O8-hnBKid",
    "outputId": "867e2096-f1b1-46ea-8ccb-864096adc439"
   },
   "outputs": [
    {
     "name": "stdout",
     "output_type": "stream",
     "text": [
      "313/313 - 2s - loss: 0.3376 - accuracy: 0.9238 - 2s/epoch - 7ms/step\n",
      "Test accuracy: 0.923799991607666\n"
     ]
    }
   ],
   "source": [
    "# Evaluate global model\n",
    "\n",
    "test_loss, test_acc = global_model.evaluate(x_test, y_test, verbose=2)\n",
    "print('Test accuracy:', test_acc)"
   ]
  },
  {
   "cell_type": "code",
   "execution_count": 12,
   "metadata": {
    "id": "L6VWZejnBKid"
   },
   "outputs": [],
   "source": [
    "test_accuracy = []"
   ]
  },
  {
   "cell_type": "code",
   "execution_count": 13,
   "metadata": {
    "id": "sUTiP-5iBKid"
   },
   "outputs": [],
   "source": [
    "test_accuracy.append(test_acc)"
   ]
  },
  {
   "cell_type": "code",
   "execution_count": 14,
   "metadata": {
    "id": "cQZ1yFRaBKie",
    "outputId": "225eec40-3f37-4f74-8994-aeb63ebb67a4"
   },
   "outputs": [
    {
     "data": {
      "text/plain": [
       "[0.923799991607666]"
      ]
     },
     "execution_count": 14,
     "metadata": {},
     "output_type": "execute_result"
    }
   ],
   "source": [
    "test_accuracy"
   ]
  },
  {
   "cell_type": "markdown",
   "metadata": {
    "id": "XnbGfsd6BKie"
   },
   "source": [
    "#### Write your code to calculate precision, recall, and F-score\n"
   ]
  },
  {
   "cell_type": "code",
   "execution_count": 15,
   "metadata": {
    "id": "H9w3MTyhBKie"
   },
   "outputs": [],
   "source": [
    "from sklearn.metrics import classification_report\n",
    "from sklearn.metrics import accuracy_score, precision_score, recall_score, f1_score"
   ]
  },
  {
   "cell_type": "code",
   "execution_count": 16,
   "metadata": {
    "colab": {
     "base_uri": "https://localhost:8080/"
    },
    "id": "FWerGuBjBKie",
    "outputId": "800f3e10-8546-4aca-fb1f-fd6bb6d280fa"
   },
   "outputs": [
    {
     "name": "stdout",
     "output_type": "stream",
     "text": [
      "313/313 [==============================] - 2s 5ms/step\n",
      "(10000, 10)\n"
     ]
    }
   ],
   "source": [
    "predictions = global_model.predict(x_test)\n",
    "print(predictions.shape)\n",
    "\n",
    "predictions = list(predictions.argmax(axis=1))"
   ]
  },
  {
   "cell_type": "code",
   "execution_count": 17,
   "metadata": {
    "colab": {
     "base_uri": "https://localhost:8080/"
    },
    "id": "sjzXDntrBKie",
    "outputId": "c8485fcd-af22-46c7-d4f7-1f7e64ee38fb"
   },
   "outputs": [
    {
     "name": "stdout",
     "output_type": "stream",
     "text": [
      "Accuracy: 0.9238\n",
      "Precision: 0.9301122801328177\n",
      "Recall: 0.9238\n",
      "F-score: 0.924664971512951\n"
     ]
    }
   ],
   "source": [
    "print(\"Accuracy:\", accuracy_score(y_test, predictions))\n",
    "print(\"Precision:\", precision_score(y_test, predictions, average = 'weighted' ))\n",
    "print(\"Recall:\", recall_score(y_test, predictions, average = 'weighted' ))\n",
    "print(\"F-score:\", f1_score(y_test, predictions, average = 'weighted' ))"
   ]
  },
  {
   "cell_type": "code",
   "execution_count": 18,
   "metadata": {
    "id": "bQJm2qciBKie"
   },
   "outputs": [],
   "source": [
    "test_precision = []\n",
    "test_recall    = []\n",
    "test_f1_score  = []"
   ]
  },
  {
   "cell_type": "code",
   "execution_count": 19,
   "metadata": {
    "id": "ZEOFs2hRBKie"
   },
   "outputs": [],
   "source": [
    "test_precision.append(precision_score(y_test, predictions, average = 'weighted' ))\n",
    "test_recall.append(recall_score(y_test, predictions, average = 'weighted' ))\n",
    "test_f1_score.append(f1_score(y_test, predictions, average = 'weighted' ))"
   ]
  },
  {
   "cell_type": "code",
   "execution_count": null,
   "metadata": {
    "id": "KbTeFgOxBKie"
   },
   "outputs": [],
   "source": []
  },
  {
   "cell_type": "markdown",
   "metadata": {
    "id": "aKqQcRnUBKie"
   },
   "source": [
    "#### Display confusion matrix between actual and predicted values on the test data.\n"
   ]
  },
  {
   "cell_type": "code",
   "execution_count": 20,
   "metadata": {
    "id": "CPAMGG0YBKie"
   },
   "outputs": [],
   "source": [
    "from sklearn.metrics import confusion_matrix, ConfusionMatrixDisplay"
   ]
  },
  {
   "cell_type": "code",
   "execution_count": 21,
   "metadata": {
    "id": "qaFnAbJXBKie",
    "outputId": "9738f24d-f498-4739-fd8f-d35338640bb9"
   },
   "outputs": [
    {
     "data": {
      "image/png": "[encoded data removed]",
      "text/plain": [
       "<Figure size 640x480 with 2 Axes>"
      ]
     },
     "metadata": {},
     "output_type": "display_data"
    }
   ],
   "source": [
    "# display confusion matrix between test output and predicted output\n",
    "\n",
    "cm = confusion_matrix(y_test, predictions)\n",
    "disp = ConfusionMatrixDisplay(confusion_matrix = cm)\n",
    "disp.plot();\n",
    "#plt.show()"
   ]
  },
  {
   "cell_type": "code",
   "execution_count": null,
   "metadata": {
    "id": "L-mO7yM8BKie"
   },
   "outputs": [],
   "source": []
  },
  {
   "cell_type": "markdown",
   "metadata": {
    "id": "aeKbFr6UHMPx"
   },
   "source": [
    "## Lab Logbook requirement: Document the\n",
    "\n",
    "1. Plot the model's performance for the number of clients ranging from 2, 4, 6, 8, and 10.\n",
    "\n",
    "2. For any specified number of clients, compare the model's performance when one (or more) dishonest clients are present. Plot the performance metrics before and after the presence of dishonest clients."
   ]
  },
  {
   "cell_type": "code",
   "execution_count": null,
   "metadata": {
    "id": "X88iwy-6BKie"
   },
   "outputs": [],
   "source": []
  },
  {
   "cell_type": "markdown",
   "metadata": {
    "id": "khN2B--YBKie"
   },
   "source": [
    "## Plot the model's performance for the number of clients ranging from 2, 4, 6, 8, and 10."
   ]
  },
  {
   "cell_type": "markdown",
   "metadata": {
    "id": "b4scfwdkBKif"
   },
   "source": [
    "## 4 Clients"
   ]
  },
  {
   "cell_type": "code",
   "execution_count": 22,
   "metadata": {
    "id": "8XTzHKMKBKif"
   },
   "outputs": [],
   "source": [
    "# Split data into 4 clients"
   ]
  },
  {
   "cell_type": "code",
   "execution_count": 23,
   "metadata": {
    "id": "dldCMWTqBKif"
   },
   "outputs": [],
   "source": [
    "Client_1 = (x_train[0:15000], y_train[0:15000])\n",
    "Client_2 = (x_train[15000:30000], y_train[15000:30000])\n",
    "Client_3 = (x_train[30000:45000], y_train[30000:45000])\n",
    "Client_4 = (x_train[45000:], y_train[45000:])"
   ]
  },
  {
   "cell_type": "code",
   "execution_count": 24,
   "metadata": {
    "colab": {
     "base_uri": "https://localhost:8080/"
    },
    "id": "k6cdNNuHBKif",
    "outputId": "075fde3b-c3c1-4435-9e7d-255f38703c37"
   },
   "outputs": [
    {
     "name": "stdout",
     "output_type": "stream",
     "text": [
      "(15000, 28, 28, 1)\n",
      "(15000, 28, 28, 1)\n",
      "(15000, 28, 28, 1)\n",
      "(15000, 28, 28, 1)\n",
      "(15000,)\n",
      "(15000,)\n",
      "(15000,)\n",
      "(15000,)\n"
     ]
    }
   ],
   "source": [
    "print(Client_1[0].shape)\n",
    "print(Client_2[0].shape)\n",
    "print(Client_3[0].shape)\n",
    "print(Client_4[0].shape)\n",
    "\n",
    "print(Client_1[1].shape)\n",
    "print(Client_2[1].shape)\n",
    "print(Client_3[1].shape)\n",
    "print(Client_4[1].shape)"
   ]
  },
  {
   "cell_type": "code",
   "execution_count": 25,
   "metadata": {
    "colab": {
     "base_uri": "https://localhost:8080/"
    },
    "id": "5hQk5aC4BKif",
    "outputId": "e6aedf79-efe1-405e-cac7-3af6e6f85476"
   },
   "outputs": [
    {
     "name": "stdout",
     "output_type": "stream",
     "text": [
      "Epoch 1/5\n",
      "469/469 [==============================] - 2s 3ms/step - loss: 0.4505 - accuracy: 0.8746\n",
      "Epoch 2/5\n",
      "469/469 [==============================] - 1s 3ms/step - loss: 0.2155 - accuracy: 0.9385\n",
      "Epoch 3/5\n",
      "469/469 [==============================] - 1s 3ms/step - loss: 0.1517 - accuracy: 0.9576\n",
      "Epoch 4/5\n",
      "469/469 [==============================] - 2s 4ms/step - loss: 0.1130 - accuracy: 0.9694\n",
      "Epoch 5/5\n",
      "469/469 [==============================] - 1s 3ms/step - loss: 0.0851 - accuracy: 0.9779\n",
      "Epoch 1/5\n",
      "469/469 [==============================] - 2s 3ms/step - loss: 2.3142 - accuracy: 0.1023\n",
      "Epoch 2/5\n",
      "469/469 [==============================] - 1s 3ms/step - loss: 2.2962 - accuracy: 0.1215\n",
      "Epoch 3/5\n",
      "469/469 [==============================] - 1s 3ms/step - loss: 2.2870 - accuracy: 0.1294\n",
      "Epoch 4/5\n",
      "469/469 [==============================] - 1s 3ms/step - loss: 2.2737 - accuracy: 0.1439\n",
      "Epoch 5/5\n",
      "469/469 [==============================] - 2s 3ms/step - loss: 2.2535 - accuracy: 0.1620\n",
      "Epoch 1/5\n",
      "469/469 [==============================] - 2s 3ms/step - loss: 2.3148 - accuracy: 0.0982\n",
      "Epoch 2/5\n",
      "469/469 [==============================] - 2s 3ms/step - loss: 2.2972 - accuracy: 0.1213\n",
      "Epoch 3/5\n",
      "469/469 [==============================] - 2s 4ms/step - loss: 2.2869 - accuracy: 0.1312\n",
      "Epoch 4/5\n",
      "469/469 [==============================] - 2s 4ms/step - loss: 2.2742 - accuracy: 0.1426\n",
      "Epoch 5/5\n",
      "469/469 [==============================] - 1s 3ms/step - loss: 2.2530 - accuracy: 0.1586\n",
      "Epoch 1/5\n",
      "469/469 [==============================] - 2s 3ms/step - loss: 2.3140 - accuracy: 0.1071\n",
      "Epoch 2/5\n",
      "469/469 [==============================] - 2s 3ms/step - loss: 2.2952 - accuracy: 0.1231\n",
      "Epoch 3/5\n",
      "469/469 [==============================] - 1s 3ms/step - loss: 2.2835 - accuracy: 0.1307\n",
      "Epoch 4/5\n",
      "469/469 [==============================] - 1s 3ms/step - loss: 2.2675 - accuracy: 0.1491\n",
      "Epoch 5/5\n",
      "469/469 [==============================] - 1s 3ms/step - loss: 2.2477 - accuracy: 0.1625\n"
     ]
    }
   ],
   "source": [
    "# Create and train client models\n",
    "client1_model = create_client_model()\n",
    "client2_model = create_client_model()\n",
    "client3_model = create_client_model()\n",
    "client4_model = create_client_model()\n",
    "\n",
    "client1_model = train_client_model(client1_model, Client_1[0], Client_1[1])\n",
    "client2_model = train_client_model(client2_model, Client_2[0], Client_1[1])\n",
    "client3_model = train_client_model(client3_model, Client_3[0], Client_1[1])\n",
    "client4_model = train_client_model(client4_model, Client_4[0], Client_1[1])"
   ]
  },
  {
   "cell_type": "code",
   "execution_count": 26,
   "metadata": {
    "id": "Ag5nsukFBKif"
   },
   "outputs": [],
   "source": [
    "# Federated averaging\n",
    "def federated_average_weights(weights1, weights2, weights3, weights4):\n",
    "    new_weights = []\n",
    "    for w1, w2, w3, w4 in zip(weights1, weights2, weights3, weights4):\n",
    "        new_weights.append((w1 + w2 + w3 + w4) / 4)\n",
    "    return new_weights\n"
   ]
  },
  {
   "cell_type": "code",
   "execution_count": 27,
   "metadata": {
    "id": "6GNrpqtlBKif"
   },
   "outputs": [],
   "source": [
    "# Aggregate models\n",
    "aggregated_weights = federated_average_weights(client1_model.get_weights(),\n",
    "                                               client2_model.get_weights(),\n",
    "                                               client3_model.get_weights(),\n",
    "                                               client4_model.get_weights())\n",
    "\n",
    "# Create global model and set weights\n",
    "global_model = create_client_model()\n",
    "global_model.set_weights(aggregated_weights)"
   ]
  },
  {
   "cell_type": "code",
   "execution_count": 28,
   "metadata": {
    "colab": {
     "base_uri": "https://localhost:8080/"
    },
    "id": "ZjeUPxs9BKif",
    "outputId": "fe42d8c3-8f29-44bc-fb0d-0179b4c38bd3"
   },
   "outputs": [
    {
     "name": "stdout",
     "output_type": "stream",
     "text": [
      "313/313 - 1s - loss: 2.2269 - accuracy: 0.3613 - 788ms/epoch - 3ms/step\n",
      "Test accuracy: 0.361299991607666\n"
     ]
    }
   ],
   "source": [
    "# Evaluate global model\n",
    "test_loss, test_acc = global_model.evaluate(x_test, y_test, verbose=2)\n",
    "print('Test accuracy:', test_acc)"
   ]
  },
  {
   "cell_type": "code",
   "execution_count": 29,
   "metadata": {
    "colab": {
     "base_uri": "https://localhost:8080/"
    },
    "id": "sRFQ3Wo_BKif",
    "outputId": "910c7b51-2253-40b9-cfc6-0daa098d796e"
   },
   "outputs": [
    {
     "name": "stdout",
     "output_type": "stream",
     "text": [
      "313/313 [==============================] - 1s 2ms/step\n",
      "(10000, 10)\n"
     ]
    }
   ],
   "source": [
    "predictions = global_model.predict(x_test)\n",
    "print(predictions.shape)\n",
    "\n",
    "predictions = list(predictions.argmax(axis=1))"
   ]
  },
  {
   "cell_type": "code",
   "execution_count": 30,
   "metadata": {
    "colab": {
     "base_uri": "https://localhost:8080/"
    },
    "id": "PS2K6sR6BKif",
    "outputId": "5457458c-ee34-4110-eb60-dca20b642aa8"
   },
   "outputs": [
    {
     "name": "stdout",
     "output_type": "stream",
     "text": [
      "Accuracy:  0.3613\n",
      "Precision:  0.4373540240417135\n",
      "Recall:  0.3613\n",
      "F-score:  0.33704356635526345\n"
     ]
    }
   ],
   "source": [
    "print(\"Accuracy: \", accuracy_score(y_test, predictions))\n",
    "\n",
    "print(\"Precision: \", precision_score(y_test, predictions, average = 'weighted' ))\n",
    "print(\"Recall: \", recall_score(y_test, predictions, average = 'weighted' ))\n",
    "print(\"F-score: \", f1_score(y_test, predictions, average = 'weighted' ))\n"
   ]
  },
  {
   "cell_type": "code",
   "execution_count": 31,
   "metadata": {
    "id": "ZwxCvWQHBKif"
   },
   "outputs": [],
   "source": [
    "test_accuracy.append(accuracy_score(y_test, predictions))\n",
    "test_precision.append(precision_score(y_test, predictions, average = 'weighted' ))\n",
    "test_recall.append(recall_score(y_test, predictions, average = 'weighted' ))\n",
    "test_f1_score.append(f1_score(y_test, predictions, average = 'weighted' ))"
   ]
  },
  {
   "cell_type": "code",
   "execution_count": 32,
   "metadata": {
    "colab": {
     "base_uri": "https://localhost:8080/"
    },
    "id": "MCbDPg9wBKif",
    "outputId": "5716ef49-9e18-438a-a928-296340548f81"
   },
   "outputs": [
    {
     "name": "stdout",
     "output_type": "stream",
     "text": [
      "[0.923799991607666, 0.3613]\n",
      "[0.9301122801328177, 0.4373540240417135]\n",
      "[0.9238, 0.3613]\n",
      "[0.924664971512951, 0.33704356635526345]\n"
     ]
    }
   ],
   "source": [
    "print(test_accuracy)\n",
    "print(test_precision)\n",
    "print(test_recall)\n",
    "print(test_f1_score)"
   ]
  },
  {
   "cell_type": "code",
   "execution_count": null,
   "metadata": {
    "id": "9RNqF46eBKig"
   },
   "outputs": [],
   "source": []
  },
  {
   "cell_type": "markdown",
   "metadata": {
    "id": "wvS6_sjABKig"
   },
   "source": [
    "## 6 Clients"
   ]
  },
  {
   "cell_type": "code",
   "execution_count": 33,
   "metadata": {
    "colab": {
     "base_uri": "https://localhost:8080/"
    },
    "id": "ImBV_WOBBKig",
    "outputId": "4f46b144-d994-4c44-e8c8-ea3f37c6eac5"
   },
   "outputs": [
    {
     "name": "stdout",
     "output_type": "stream",
     "text": [
      "(10000, 28, 28, 1)\n",
      "(10000, 28, 28, 1)\n",
      "(10000, 28, 28, 1)\n",
      "(10000, 28, 28, 1)\n",
      "(10000, 28, 28, 1)\n",
      "(10000, 28, 28, 1)\n",
      "(10000,)\n",
      "(10000,)\n",
      "(10000,)\n",
      "(10000,)\n",
      "(10000,)\n",
      "(10000,)\n"
     ]
    }
   ],
   "source": [
    "Client_1 = (x_train[0:10000], y_train[0:10000])\n",
    "Client_2 = (x_train[10000:20000], y_train[10000:20000])\n",
    "Client_3 = (x_train[20000:30000], y_train[20000:30000])\n",
    "Client_4 = (x_train[30000:40000], y_train[30000:40000])\n",
    "Client_5 = (x_train[40000:50000], y_train[40000:50000])\n",
    "Client_6 = (x_train[50000:], y_train[50000:])\n",
    "\n",
    "print(Client_1[0].shape)\n",
    "print(Client_2[0].shape)\n",
    "print(Client_3[0].shape)\n",
    "print(Client_4[0].shape)\n",
    "print(Client_5[0].shape)\n",
    "print(Client_6[0].shape)\n",
    "\n",
    "print(Client_1[1].shape)\n",
    "print(Client_2[1].shape)\n",
    "print(Client_3[1].shape)\n",
    "print(Client_4[1].shape)\n",
    "print(Client_5[1].shape)\n",
    "print(Client_6[1].shape)"
   ]
  },
  {
   "cell_type": "code",
   "execution_count": 34,
   "metadata": {
    "colab": {
     "base_uri": "https://localhost:8080/"
    },
    "id": "eo_iCw_TBKig",
    "outputId": "ad62aee4-2795-482d-a86b-8825749b68b9"
   },
   "outputs": [
    {
     "name": "stdout",
     "output_type": "stream",
     "text": [
      "Epoch 1/5\n",
      "313/313 [==============================] - 2s 3ms/step - loss: 0.5133 - accuracy: 0.8582\n",
      "Epoch 2/5\n",
      "313/313 [==============================] - 1s 3ms/step - loss: 0.2367 - accuracy: 0.9332\n",
      "Epoch 3/5\n",
      "313/313 [==============================] - 1s 3ms/step - loss: 0.1744 - accuracy: 0.9506\n",
      "Epoch 4/5\n",
      "313/313 [==============================] - 1s 3ms/step - loss: 0.1360 - accuracy: 0.9611\n",
      "Epoch 5/5\n",
      "313/313 [==============================] - 1s 3ms/step - loss: 0.1065 - accuracy: 0.9705\n",
      "Epoch 1/5\n",
      "313/313 [==============================] - 2s 3ms/step - loss: 2.3271 - accuracy: 0.1040\n",
      "Epoch 2/5\n",
      "313/313 [==============================] - 1s 3ms/step - loss: 2.2934 - accuracy: 0.1217\n",
      "Epoch 3/5\n",
      "313/313 [==============================] - 1s 3ms/step - loss: 2.2791 - accuracy: 0.1416\n",
      "Epoch 4/5\n",
      "313/313 [==============================] - 1s 3ms/step - loss: 2.2569 - accuracy: 0.1543\n",
      "Epoch 5/5\n",
      "313/313 [==============================] - 1s 3ms/step - loss: 2.2316 - accuracy: 0.1727\n",
      "Epoch 1/5\n",
      "313/313 [==============================] - 1s 3ms/step - loss: 2.3174 - accuracy: 0.1076\n",
      "Epoch 2/5\n",
      "313/313 [==============================] - 1s 3ms/step - loss: 2.2957 - accuracy: 0.1219\n",
      "Epoch 3/5\n",
      "313/313 [==============================] - 1s 3ms/step - loss: 2.2826 - accuracy: 0.1385\n",
      "Epoch 4/5\n",
      "313/313 [==============================] - 1s 3ms/step - loss: 2.2634 - accuracy: 0.1506\n",
      "Epoch 5/5\n",
      "313/313 [==============================] - 1s 3ms/step - loss: 2.2397 - accuracy: 0.1705\n",
      "Epoch 1/5\n",
      "313/313 [==============================] - 2s 3ms/step - loss: 2.3195 - accuracy: 0.1046\n",
      "Epoch 2/5\n",
      "313/313 [==============================] - 1s 3ms/step - loss: 2.2934 - accuracy: 0.1251\n",
      "Epoch 3/5\n",
      "313/313 [==============================] - 1s 3ms/step - loss: 2.2820 - accuracy: 0.1366\n",
      "Epoch 4/5\n",
      "313/313 [==============================] - 1s 3ms/step - loss: 2.2595 - accuracy: 0.1588\n",
      "Epoch 5/5\n",
      "313/313 [==============================] - 1s 3ms/step - loss: 2.2331 - accuracy: 0.1758\n",
      "Epoch 1/5\n",
      "313/313 [==============================] - 1s 3ms/step - loss: 0.5447 - accuracy: 0.8468\n",
      "Epoch 2/5\n",
      "313/313 [==============================] - 1s 3ms/step - loss: 0.2624 - accuracy: 0.9235\n",
      "Epoch 3/5\n",
      "313/313 [==============================] - 1s 3ms/step - loss: 0.1971 - accuracy: 0.9427\n",
      "Epoch 4/5\n",
      "313/313 [==============================] - 1s 3ms/step - loss: 0.1500 - accuracy: 0.9577\n",
      "Epoch 5/5\n",
      "313/313 [==============================] - 1s 3ms/step - loss: 0.1228 - accuracy: 0.9666\n",
      "Epoch 1/5\n",
      "313/313 [==============================] - 1s 3ms/step - loss: 0.4758 - accuracy: 0.8708\n",
      "Epoch 2/5\n",
      "313/313 [==============================] - 1s 3ms/step - loss: 0.2214 - accuracy: 0.9375\n",
      "Epoch 3/5\n",
      "313/313 [==============================] - 1s 3ms/step - loss: 0.1613 - accuracy: 0.9537\n",
      "Epoch 4/5\n",
      "313/313 [==============================] - 1s 3ms/step - loss: 0.1205 - accuracy: 0.9658\n",
      "Epoch 5/5\n",
      "313/313 [==============================] - 1s 3ms/step - loss: 0.0928 - accuracy: 0.9742\n"
     ]
    }
   ],
   "source": [
    "# Create and train client models\n",
    "client1_model = create_client_model()\n",
    "client2_model = create_client_model()\n",
    "client3_model = create_client_model()\n",
    "client4_model = create_client_model()\n",
    "client5_model = create_client_model()\n",
    "client6_model = create_client_model()\n",
    "\n",
    "client1_model = train_client_model(client1_model, Client_1[0], Client_1[1])\n",
    "client2_model = train_client_model(client2_model, Client_2[0], Client_1[1])\n",
    "client3_model = train_client_model(client3_model, Client_3[0], Client_1[1])\n",
    "client4_model = train_client_model(client4_model, Client_4[0], Client_1[1])\n",
    "client5_model = train_client_model(client5_model, Client_5[0], Client_5[1])\n",
    "client6_model = train_client_model(client6_model, Client_6[0], Client_6[1])"
   ]
  },
  {
   "cell_type": "code",
   "execution_count": 35,
   "metadata": {
    "id": "yMgNV_RTBKig"
   },
   "outputs": [],
   "source": [
    "# Federated averaging\n",
    "def federated_average_weights(weights1, weights2, weights3, weights4, weights5, weights6):\n",
    "    new_weights = []\n",
    "    for w1, w2, w3, w4, w5, w6 in zip(weights1, weights2, weights3, weights4, weights5, weights6):\n",
    "        new_weights.append((w1 + w2 + w3 + w4 + w5 + w6) / 6)\n",
    "    return new_weights\n",
    "\n",
    "\n",
    "# Aggregate models\n",
    "aggregated_weights = federated_average_weights(client1_model.get_weights(),\n",
    "                                               client2_model.get_weights(),\n",
    "                                               client3_model.get_weights(),\n",
    "                                               client4_model.get_weights(),\n",
    "                                               client5_model.get_weights(),\n",
    "                                               client6_model.get_weights())\n",
    "\n",
    "# Create global model and set weights\n",
    "global_model = create_client_model()\n",
    "global_model.set_weights(aggregated_weights)"
   ]
  },
  {
   "cell_type": "code",
   "execution_count": 36,
   "metadata": {
    "colab": {
     "base_uri": "https://localhost:8080/"
    },
    "id": "79mG9ArfBKig",
    "outputId": "837da090-67ce-43af-b20c-482f8c72ce08"
   },
   "outputs": [
    {
     "name": "stdout",
     "output_type": "stream",
     "text": [
      "313/313 - 1s - loss: 2.0149 - accuracy: 0.5785 - 858ms/epoch - 3ms/step\n",
      "Test accuracy: 0.578499972820282\n",
      "313/313 [==============================] - 1s 2ms/step\n",
      "(10000, 10)\n",
      "Accuracy:  0.5785\n",
      "Precision:  0.711910426069019\n",
      "Recall:  0.5785\n",
      "F-score:  0.5256294581541289\n",
      "              precision    recall  f1-score   support\n",
      "\n",
      "           0       0.81      0.86      0.83       980\n",
      "           1       0.98      0.04      0.09      1135\n",
      "           2       0.58      0.75      0.65      1032\n",
      "           3       0.47      0.93      0.62      1010\n",
      "           4       0.91      0.49      0.64       982\n",
      "           5       0.47      0.80      0.59       892\n",
      "           6       0.81      0.60      0.69       958\n",
      "           7       0.41      0.83      0.55      1028\n",
      "           8       0.88      0.02      0.03       974\n",
      "           9       0.77      0.52      0.62      1009\n",
      "\n",
      "    accuracy                           0.58     10000\n",
      "   macro avg       0.71      0.59      0.53     10000\n",
      "weighted avg       0.71      0.58      0.53     10000\n",
      "\n"
     ]
    }
   ],
   "source": [
    "# Evaluate global model\n",
    "test_loss, test_acc = global_model.evaluate(x_test, y_test, verbose=2)\n",
    "print('Test accuracy:', test_acc)\n",
    "\n",
    "predictions = global_model.predict(x_test)\n",
    "print(predictions.shape)\n",
    "\n",
    "predictions = list(predictions.argmax(axis=1))\n",
    "\n",
    "print(\"Accuracy: \", accuracy_score(y_test, predictions))\n",
    "\n",
    "print(\"Precision: \", precision_score(y_test, predictions, average = 'weighted' ))\n",
    "print(\"Recall: \", recall_score(y_test, predictions, average = 'weighted' ))\n",
    "print(\"F-score: \", f1_score(y_test, predictions, average = 'weighted' ))\n",
    "\n",
    "print(classification_report(y_test, predictions))"
   ]
  },
  {
   "cell_type": "code",
   "execution_count": 37,
   "metadata": {
    "colab": {
     "base_uri": "https://localhost:8080/"
    },
    "id": "ZvejtTVKBKig",
    "outputId": "27a45a76-e6e6-48ff-a019-1b4702767214"
   },
   "outputs": [
    {
     "name": "stdout",
     "output_type": "stream",
     "text": [
      "[0.923799991607666, 0.3613, 0.5785]\n",
      "[0.9301122801328177, 0.4373540240417135, 0.711910426069019]\n",
      "[0.9238, 0.3613, 0.5785]\n",
      "[0.924664971512951, 0.33704356635526345, 0.5256294581541289]\n"
     ]
    }
   ],
   "source": [
    "test_accuracy.append(accuracy_score(y_test, predictions))\n",
    "test_precision.append(precision_score(y_test, predictions, average = 'weighted' ))\n",
    "test_recall.append(recall_score(y_test, predictions, average = 'weighted' ))\n",
    "test_f1_score.append(f1_score(y_test, predictions, average = 'weighted' ))\n",
    "\n",
    "print(test_accuracy)\n",
    "print(test_precision)\n",
    "print(test_recall)\n",
    "print(test_f1_score)"
   ]
  },
  {
   "cell_type": "code",
   "execution_count": null,
   "metadata": {
    "id": "LO8eSo7bBKig"
   },
   "outputs": [],
   "source": []
  },
  {
   "cell_type": "markdown",
   "metadata": {
    "id": "oNYnX-xUBKig"
   },
   "source": [
    "## 8 Clients"
   ]
  },
  {
   "cell_type": "code",
   "execution_count": 38,
   "metadata": {
    "colab": {
     "base_uri": "https://localhost:8080/"
    },
    "id": "hbF9JQWPBKig",
    "outputId": "489e2a38-f929-4142-b091-61779f18eb68"
   },
   "outputs": [
    {
     "name": "stdout",
     "output_type": "stream",
     "text": [
      "(7500, 28, 28, 1)\n",
      "(7500, 28, 28, 1)\n",
      "(7500, 28, 28, 1)\n",
      "(7500, 28, 28, 1)\n",
      "(7500, 28, 28, 1)\n",
      "(7500, 28, 28, 1)\n",
      "(7500, 28, 28, 1)\n",
      "(7500, 28, 28, 1)\n",
      "(7500,)\n",
      "(7500,)\n",
      "(7500,)\n",
      "(7500,)\n",
      "(7500,)\n",
      "(7500,)\n",
      "(7500,)\n",
      "(7500,)\n",
      "Epoch 1/5\n",
      "235/235 [==============================] - 2s 3ms/step - loss: 0.5888 - accuracy: 0.8384\n",
      "Epoch 2/5\n",
      "235/235 [==============================] - 1s 3ms/step - loss: 0.2536 - accuracy: 0.9297\n",
      "Epoch 3/5\n",
      "235/235 [==============================] - 1s 3ms/step - loss: 0.1917 - accuracy: 0.9461\n",
      "Epoch 4/5\n",
      "235/235 [==============================] - 1s 4ms/step - loss: 0.1478 - accuracy: 0.9596\n",
      "Epoch 5/5\n",
      "235/235 [==============================] - 1s 4ms/step - loss: 0.1168 - accuracy: 0.9684\n",
      "Epoch 1/5\n",
      "235/235 [==============================] - 2s 4ms/step - loss: 2.3234 - accuracy: 0.1011\n",
      "Epoch 2/5\n",
      "235/235 [==============================] - 1s 4ms/step - loss: 2.2898 - accuracy: 0.1304\n",
      "Epoch 3/5\n",
      "235/235 [==============================] - 1s 3ms/step - loss: 2.2715 - accuracy: 0.1464\n",
      "Epoch 4/5\n",
      "235/235 [==============================] - 1s 3ms/step - loss: 2.2428 - accuracy: 0.1667\n",
      "Epoch 5/5\n",
      "235/235 [==============================] - 1s 3ms/step - loss: 2.2096 - accuracy: 0.1883\n",
      "Epoch 1/5\n",
      "235/235 [==============================] - 2s 3ms/step - loss: 2.3233 - accuracy: 0.1055\n",
      "Epoch 2/5\n",
      "235/235 [==============================] - 1s 5ms/step - loss: 2.2852 - accuracy: 0.1313\n",
      "Epoch 3/5\n",
      "235/235 [==============================] - 1s 4ms/step - loss: 2.2619 - accuracy: 0.1552\n",
      "Epoch 4/5\n",
      "235/235 [==============================] - 1s 4ms/step - loss: 2.2302 - accuracy: 0.1759\n",
      "Epoch 5/5\n",
      "235/235 [==============================] - 1s 6ms/step - loss: 2.1976 - accuracy: 0.1996\n",
      "Epoch 1/5\n",
      "235/235 [==============================] - 3s 5ms/step - loss: 2.3190 - accuracy: 0.1103\n",
      "Epoch 2/5\n",
      "235/235 [==============================] - 1s 5ms/step - loss: 2.2883 - accuracy: 0.1292\n",
      "Epoch 3/5\n",
      "235/235 [==============================] - 1s 5ms/step - loss: 2.2670 - accuracy: 0.1479\n",
      "Epoch 4/5\n",
      "235/235 [==============================] - 1s 4ms/step - loss: 2.2406 - accuracy: 0.1688\n",
      "Epoch 5/5\n",
      "235/235 [==============================] - 1s 4ms/step - loss: 2.2060 - accuracy: 0.1957\n",
      "Epoch 1/5\n",
      "235/235 [==============================] - 1s 3ms/step - loss: 0.6059 - accuracy: 0.8343\n",
      "Epoch 2/5\n",
      "235/235 [==============================] - 1s 3ms/step - loss: 0.2846 - accuracy: 0.9165\n",
      "Epoch 3/5\n",
      "235/235 [==============================] - 1s 3ms/step - loss: 0.2128 - accuracy: 0.9379\n",
      "Epoch 4/5\n",
      "235/235 [==============================] - 1s 4ms/step - loss: 0.1646 - accuracy: 0.9520\n",
      "Epoch 5/5\n",
      "235/235 [==============================] - 1s 5ms/step - loss: 0.1310 - accuracy: 0.9636\n",
      "Epoch 1/5\n",
      "235/235 [==============================] - 2s 5ms/step - loss: 0.6102 - accuracy: 0.8320\n",
      "Epoch 2/5\n",
      "235/235 [==============================] - 1s 4ms/step - loss: 0.2737 - accuracy: 0.9208\n",
      "Epoch 3/5\n",
      "235/235 [==============================] - 1s 3ms/step - loss: 0.2046 - accuracy: 0.9415\n",
      "Epoch 4/5\n",
      "235/235 [==============================] - 1s 4ms/step - loss: 0.1566 - accuracy: 0.9551\n",
      "Epoch 5/5\n",
      "235/235 [==============================] - 1s 3ms/step - loss: 0.1207 - accuracy: 0.9673\n",
      "Epoch 1/5\n",
      "235/235 [==============================] - 2s 3ms/step - loss: 0.6101 - accuracy: 0.8293\n",
      "Epoch 2/5\n",
      "235/235 [==============================] - 1s 3ms/step - loss: 0.2891 - accuracy: 0.9181\n",
      "Epoch 3/5\n",
      "235/235 [==============================] - 1s 3ms/step - loss: 0.2161 - accuracy: 0.9393\n",
      "Epoch 4/5\n",
      "235/235 [==============================] - 1s 3ms/step - loss: 0.1728 - accuracy: 0.9509\n",
      "Epoch 5/5\n",
      "235/235 [==============================] - 1s 3ms/step - loss: 0.1398 - accuracy: 0.9613\n",
      "Epoch 1/5\n",
      "235/235 [==============================] - 2s 4ms/step - loss: 0.5349 - accuracy: 0.8527\n",
      "Epoch 2/5\n",
      "235/235 [==============================] - 1s 3ms/step - loss: 0.2387 - accuracy: 0.9281\n",
      "Epoch 3/5\n",
      "235/235 [==============================] - 1s 4ms/step - loss: 0.1774 - accuracy: 0.9525\n",
      "Epoch 4/5\n",
      "235/235 [==============================] - 1s 4ms/step - loss: 0.1362 - accuracy: 0.9631\n",
      "Epoch 5/5\n",
      "235/235 [==============================] - 1s 3ms/step - loss: 0.1085 - accuracy: 0.9689\n"
     ]
    }
   ],
   "source": [
    "Client_1 = (x_train[0:7500], y_train[0:7500])\n",
    "Client_2 = (x_train[7500:15000], y_train[7500:15000])\n",
    "Client_3 = (x_train[15000:22500], y_train[15000:22500])\n",
    "Client_4 = (x_train[22500:30000], y_train[22500:30000])\n",
    "Client_5 = (x_train[30000:37500], y_train[30000:37500])\n",
    "Client_6 = (x_train[37500:45000], y_train[37500:45000])\n",
    "Client_7 = (x_train[45000:52500], y_train[45000:52500])\n",
    "Client_8 = (x_train[52500:], y_train[52500:])\n",
    "\n",
    "print(Client_1[0].shape)\n",
    "print(Client_2[0].shape)\n",
    "print(Client_3[0].shape)\n",
    "print(Client_4[0].shape)\n",
    "print(Client_5[0].shape)\n",
    "print(Client_6[0].shape)\n",
    "print(Client_7[0].shape)\n",
    "print(Client_8[0].shape)\n",
    "\n",
    "print(Client_1[1].shape)\n",
    "print(Client_2[1].shape)\n",
    "print(Client_3[1].shape)\n",
    "print(Client_4[1].shape)\n",
    "print(Client_5[1].shape)\n",
    "print(Client_6[1].shape)\n",
    "print(Client_7[1].shape)\n",
    "print(Client_8[1].shape)\n",
    "\n",
    "# Create and train client models\n",
    "client1_model = create_client_model()\n",
    "client2_model = create_client_model()\n",
    "client3_model = create_client_model()\n",
    "client4_model = create_client_model()\n",
    "client5_model = create_client_model()\n",
    "client6_model = create_client_model()\n",
    "client7_model = create_client_model()\n",
    "client8_model = create_client_model()\n",
    "\n",
    "client1_model = train_client_model(client1_model, Client_1[0], Client_1[1])\n",
    "client2_model = train_client_model(client2_model, Client_2[0], Client_1[1])\n",
    "client3_model = train_client_model(client3_model, Client_3[0], Client_1[1])\n",
    "client4_model = train_client_model(client4_model, Client_4[0], Client_1[1])\n",
    "client5_model = train_client_model(client5_model, Client_5[0], Client_5[1])\n",
    "client6_model = train_client_model(client6_model, Client_6[0], Client_6[1])\n",
    "client7_model = train_client_model(client7_model, Client_7[0], Client_7[1])\n",
    "client8_model = train_client_model(client8_model, Client_8[0], Client_8[1])"
   ]
  },
  {
   "cell_type": "code",
   "execution_count": 39,
   "metadata": {
    "id": "r36I0CNVBKig"
   },
   "outputs": [],
   "source": [
    "# Federated averaging\n",
    "def federated_average_weights(weights1, weights2, weights3, weights4,\n",
    "                              weights5, weights6, weights7, weights8):\n",
    "    new_weights = []\n",
    "    for w1, w2, w3, w4, w5, w6, w7, w8 in zip(weights1, weights2, weights3, weights4,\n",
    "                                              weights5, weights6, weights7, weights8):\n",
    "        new_weights.append((w1 + w2 + w3 + w4 + w5 + w6 + w7 +w8) / 8)\n",
    "    return new_weights\n",
    "\n",
    "\n",
    "# Aggregate models\n",
    "aggregated_weights = federated_average_weights(client1_model.get_weights(),\n",
    "                                               client2_model.get_weights(),\n",
    "                                               client3_model.get_weights(),\n",
    "                                               client4_model.get_weights(),\n",
    "                                               client5_model.get_weights(),\n",
    "                                               client6_model.get_weights(),\n",
    "                                               client7_model.get_weights(),\n",
    "                                               client8_model.get_weights())\n",
    "\n",
    "# Create global model and set weights\n",
    "global_model = create_client_model()\n",
    "global_model.set_weights(aggregated_weights)"
   ]
  },
  {
   "cell_type": "code",
   "execution_count": 40,
   "metadata": {
    "colab": {
     "base_uri": "https://localhost:8080/"
    },
    "id": "-LFsuovGBKig",
    "outputId": "d91a85f3-43b0-4738-8176-9ac29c46ae0b"
   },
   "outputs": [
    {
     "name": "stdout",
     "output_type": "stream",
     "text": [
      "313/313 - 1s - loss: 1.8255 - accuracy: 0.7152 - 800ms/epoch - 3ms/step\n",
      "Test accuracy: 0.7152000069618225\n",
      "313/313 [==============================] - 1s 3ms/step\n",
      "(10000, 10)\n",
      "Accuracy:  0.7152\n",
      "Precision:  0.7993766687932204\n",
      "Recall:  0.7152\n",
      "F-score:  0.6976269237473771\n",
      "              precision    recall  f1-score   support\n",
      "\n",
      "           0       0.90      0.95      0.92       980\n",
      "           1       0.97      0.56      0.71      1135\n",
      "           2       0.48      0.95      0.64      1032\n",
      "           3       0.79      0.78      0.78      1010\n",
      "           4       0.94      0.84      0.89       982\n",
      "           5       0.62      0.73      0.67       892\n",
      "           6       0.93      0.90      0.91       958\n",
      "           7       0.52      0.93      0.66      1028\n",
      "           8       0.95      0.15      0.26       974\n",
      "           9       0.89      0.38      0.53      1009\n",
      "\n",
      "    accuracy                           0.72     10000\n",
      "   macro avg       0.80      0.72      0.70     10000\n",
      "weighted avg       0.80      0.72      0.70     10000\n",
      "\n"
     ]
    }
   ],
   "source": [
    "# Evaluate global model\n",
    "test_loss, test_acc = global_model.evaluate(x_test, y_test, verbose=2)\n",
    "print('Test accuracy:', test_acc)\n",
    "\n",
    "predictions = global_model.predict(x_test)\n",
    "print(predictions.shape)\n",
    "\n",
    "predictions = list(predictions.argmax(axis=1))\n",
    "\n",
    "print(\"Accuracy: \", accuracy_score(y_test, predictions))\n",
    "\n",
    "print(\"Precision: \", precision_score(y_test, predictions, average = 'weighted' ))\n",
    "print(\"Recall: \", recall_score(y_test, predictions, average = 'weighted' ))\n",
    "print(\"F-score: \", f1_score(y_test, predictions, average = 'weighted' ))\n",
    "\n",
    "print(classification_report(y_test, predictions))"
   ]
  },
  {
   "cell_type": "code",
   "execution_count": 41,
   "metadata": {
    "colab": {
     "base_uri": "https://localhost:8080/"
    },
    "id": "1fJGd5BGBKih",
    "outputId": "4c278fc8-bc4a-4556-9543-a69b48771604"
   },
   "outputs": [
    {
     "name": "stdout",
     "output_type": "stream",
     "text": [
      "[0.923799991607666, 0.3613, 0.5785, 0.7152]\n",
      "[0.9301122801328177, 0.4373540240417135, 0.711910426069019, 0.7993766687932204]\n",
      "[0.9238, 0.3613, 0.5785, 0.7152]\n",
      "[0.924664971512951, 0.33704356635526345, 0.5256294581541289, 0.6976269237473771]\n"
     ]
    }
   ],
   "source": [
    "test_accuracy.append(accuracy_score(y_test, predictions))\n",
    "test_precision.append(precision_score(y_test, predictions, average = 'weighted' ))\n",
    "test_recall.append(recall_score(y_test, predictions, average = 'weighted' ))\n",
    "test_f1_score.append(f1_score(y_test, predictions, average = 'weighted' ))\n",
    "\n",
    "print(test_accuracy)\n",
    "print(test_precision)\n",
    "print(test_recall)\n",
    "print(test_f1_score)"
   ]
  },
  {
   "cell_type": "code",
   "execution_count": null,
   "metadata": {
    "id": "ktVQq1AuBKih"
   },
   "outputs": [],
   "source": []
  },
  {
   "cell_type": "markdown",
   "metadata": {
    "id": "iDMmT8cqBKih"
   },
   "source": [
    "## 10 Clients"
   ]
  },
  {
   "cell_type": "code",
   "execution_count": 42,
   "metadata": {
    "colab": {
     "base_uri": "https://localhost:8080/"
    },
    "id": "WEqrzPxEBKih",
    "outputId": "a130b9bb-30fe-438d-d5ee-b847606a018b"
   },
   "outputs": [
    {
     "name": "stdout",
     "output_type": "stream",
     "text": [
      "(6000, 28, 28, 1)\n",
      "(6000, 28, 28, 1)\n",
      "(6000, 28, 28, 1)\n",
      "(6000, 28, 28, 1)\n",
      "(6000, 28, 28, 1)\n",
      "(6000, 28, 28, 1)\n",
      "(6000, 28, 28, 1)\n",
      "(6000, 28, 28, 1)\n",
      "(6000, 28, 28, 1)\n",
      "(6000, 28, 28, 1)\n",
      "(6000,)\n",
      "(6000,)\n",
      "(6000,)\n",
      "(6000,)\n",
      "(6000,)\n",
      "(6000,)\n",
      "(6000,)\n",
      "(6000,)\n",
      "(6000,)\n",
      "(6000,)\n",
      "Epoch 1/5\n",
      "188/188 [==============================] - 2s 3ms/step - loss: 0.6346 - accuracy: 0.8302\n",
      "Epoch 2/5\n",
      "188/188 [==============================] - 1s 3ms/step - loss: 0.2666 - accuracy: 0.9313\n",
      "Epoch 3/5\n",
      "188/188 [==============================] - 1s 3ms/step - loss: 0.1952 - accuracy: 0.9463\n",
      "Epoch 4/5\n",
      "188/188 [==============================] - 1s 3ms/step - loss: 0.1528 - accuracy: 0.9588\n",
      "Epoch 5/5\n",
      "188/188 [==============================] - 1s 3ms/step - loss: 0.1201 - accuracy: 0.9702\n",
      "Epoch 1/5\n",
      "188/188 [==============================] - 1s 4ms/step - loss: 2.3324 - accuracy: 0.1005\n",
      "Epoch 2/5\n",
      "188/188 [==============================] - 1s 4ms/step - loss: 2.2843 - accuracy: 0.1295\n",
      "Epoch 3/5\n",
      "188/188 [==============================] - 1s 3ms/step - loss: 2.2572 - accuracy: 0.1570\n",
      "Epoch 4/5\n",
      "188/188 [==============================] - 1s 5ms/step - loss: 2.2338 - accuracy: 0.1720\n",
      "Epoch 5/5\n",
      "188/188 [==============================] - 1s 4ms/step - loss: 2.1932 - accuracy: 0.1970\n",
      "Epoch 1/5\n",
      "188/188 [==============================] - 2s 4ms/step - loss: 2.3262 - accuracy: 0.1047\n",
      "Epoch 2/5\n",
      "188/188 [==============================] - 1s 5ms/step - loss: 2.2814 - accuracy: 0.1365\n",
      "Epoch 3/5\n",
      "188/188 [==============================] - 1s 3ms/step - loss: 2.2521 - accuracy: 0.1583\n",
      "Epoch 4/5\n",
      "188/188 [==============================] - 1s 4ms/step - loss: 2.2149 - accuracy: 0.1845\n",
      "Epoch 5/5\n",
      "188/188 [==============================] - 1s 3ms/step - loss: 2.1736 - accuracy: 0.2142\n",
      "Epoch 1/5\n",
      "188/188 [==============================] - 2s 4ms/step - loss: 2.3306 - accuracy: 0.1025\n",
      "Epoch 2/5\n",
      "188/188 [==============================] - 1s 3ms/step - loss: 2.2834 - accuracy: 0.1382\n",
      "Epoch 3/5\n",
      "188/188 [==============================] - 1s 3ms/step - loss: 2.2534 - accuracy: 0.1518\n",
      "Epoch 4/5\n",
      "188/188 [==============================] - 1s 4ms/step - loss: 2.2251 - accuracy: 0.1928\n",
      "Epoch 5/5\n",
      "188/188 [==============================] - 1s 3ms/step - loss: 2.1802 - accuracy: 0.2128\n",
      "Epoch 1/5\n",
      "188/188 [==============================] - 1s 3ms/step - loss: 0.6495 - accuracy: 0.8242\n",
      "Epoch 2/5\n",
      "188/188 [==============================] - 1s 3ms/step - loss: 0.2885 - accuracy: 0.9177\n",
      "Epoch 3/5\n",
      "188/188 [==============================] - 1s 3ms/step - loss: 0.2083 - accuracy: 0.9442\n",
      "Epoch 4/5\n",
      "188/188 [==============================] - 1s 4ms/step - loss: 0.1626 - accuracy: 0.9557\n",
      "Epoch 5/5\n",
      "188/188 [==============================] - 1s 3ms/step - loss: 0.1273 - accuracy: 0.9652\n",
      "Epoch 1/5\n",
      "188/188 [==============================] - 1s 3ms/step - loss: 0.6964 - accuracy: 0.8107\n",
      "Epoch 2/5\n",
      "188/188 [==============================] - 1s 3ms/step - loss: 0.2986 - accuracy: 0.9132\n",
      "Epoch 3/5\n",
      "188/188 [==============================] - 1s 3ms/step - loss: 0.2251 - accuracy: 0.9352\n",
      "Epoch 4/5\n",
      "188/188 [==============================] - 1s 3ms/step - loss: 0.1754 - accuracy: 0.9485\n",
      "Epoch 5/5\n",
      "188/188 [==============================] - 1s 3ms/step - loss: 0.1349 - accuracy: 0.9657\n",
      "Epoch 1/5\n",
      "188/188 [==============================] - 1s 3ms/step - loss: 0.6549 - accuracy: 0.8227\n",
      "Epoch 2/5\n",
      "188/188 [==============================] - 1s 3ms/step - loss: 0.2967 - accuracy: 0.9158\n",
      "Epoch 3/5\n",
      "188/188 [==============================] - 1s 3ms/step - loss: 0.2320 - accuracy: 0.9325\n",
      "Epoch 4/5\n",
      "188/188 [==============================] - 1s 3ms/step - loss: 0.1775 - accuracy: 0.9498\n",
      "Epoch 5/5\n",
      "188/188 [==============================] - 1s 3ms/step - loss: 0.1406 - accuracy: 0.9583\n",
      "Epoch 1/5\n",
      "188/188 [==============================] - 1s 4ms/step - loss: 0.6676 - accuracy: 0.8093\n",
      "Epoch 2/5\n",
      "188/188 [==============================] - 1s 4ms/step - loss: 0.3065 - accuracy: 0.9088\n",
      "Epoch 3/5\n",
      "188/188 [==============================] - 1s 4ms/step - loss: 0.2300 - accuracy: 0.9348\n",
      "Epoch 4/5\n",
      "188/188 [==============================] - 1s 4ms/step - loss: 0.1773 - accuracy: 0.9492\n",
      "Epoch 5/5\n",
      "188/188 [==============================] - 1s 3ms/step - loss: 0.1436 - accuracy: 0.9595\n",
      "Epoch 1/5\n",
      "188/188 [==============================] - 1s 3ms/step - loss: 0.6774 - accuracy: 0.8040\n",
      "Epoch 2/5\n",
      "188/188 [==============================] - 1s 4ms/step - loss: 0.3141 - accuracy: 0.9133\n",
      "Epoch 3/5\n",
      "188/188 [==============================] - 1s 4ms/step - loss: 0.2397 - accuracy: 0.9340\n",
      "Epoch 4/5\n",
      "188/188 [==============================] - 1s 3ms/step - loss: 0.1894 - accuracy: 0.9437\n",
      "Epoch 5/5\n",
      "188/188 [==============================] - 1s 3ms/step - loss: 0.1495 - accuracy: 0.9590\n",
      "Epoch 1/5\n",
      "188/188 [==============================] - 1s 4ms/step - loss: 0.5885 - accuracy: 0.8385\n",
      "Epoch 2/5\n",
      "188/188 [==============================] - 1s 4ms/step - loss: 0.2434 - accuracy: 0.9307\n",
      "Epoch 3/5\n",
      "188/188 [==============================] - 1s 4ms/step - loss: 0.1790 - accuracy: 0.9488\n",
      "Epoch 4/5\n",
      "188/188 [==============================] - 1s 4ms/step - loss: 0.1347 - accuracy: 0.9647\n",
      "Epoch 5/5\n",
      "188/188 [==============================] - 1s 3ms/step - loss: 0.1064 - accuracy: 0.9733\n"
     ]
    }
   ],
   "source": [
    "Client_1 = (x_train[0:6000], y_train[0:6000])\n",
    "Client_2 = (x_train[6000:12000], y_train[6000:12000])\n",
    "Client_3 = (x_train[12000:18000], y_train[12000:18000])\n",
    "Client_4 = (x_train[18000:24000], y_train[18000:24000])\n",
    "Client_5 = (x_train[24000:30000], y_train[24000:30000])\n",
    "Client_6 = (x_train[30000:36000], y_train[30000:36000])\n",
    "Client_7 = (x_train[36000:42000], y_train[36000:42000])\n",
    "Client_8 = (x_train[42000:48000], y_train[42000:48000])\n",
    "Client_9 = (x_train[48000:54000], y_train[48000:54000])\n",
    "Client_10 = (x_train[54000:], y_train[54000:])\n",
    "\n",
    "print(Client_1[0].shape)\n",
    "print(Client_2[0].shape)\n",
    "print(Client_3[0].shape)\n",
    "print(Client_4[0].shape)\n",
    "print(Client_5[0].shape)\n",
    "print(Client_6[0].shape)\n",
    "print(Client_7[0].shape)\n",
    "print(Client_8[0].shape)\n",
    "print(Client_9[0].shape)\n",
    "print(Client_10[0].shape)\n",
    "\n",
    "print(Client_1[1].shape)\n",
    "print(Client_2[1].shape)\n",
    "print(Client_3[1].shape)\n",
    "print(Client_4[1].shape)\n",
    "print(Client_5[1].shape)\n",
    "print(Client_6[1].shape)\n",
    "print(Client_7[1].shape)\n",
    "print(Client_8[1].shape)\n",
    "print(Client_9[1].shape)\n",
    "print(Client_10[1].shape)\n",
    "\n",
    "# Create and train client models\n",
    "client1_model = create_client_model()\n",
    "client2_model = create_client_model()\n",
    "client3_model = create_client_model()\n",
    "client4_model = create_client_model()\n",
    "client5_model = create_client_model()\n",
    "client6_model = create_client_model()\n",
    "client7_model = create_client_model()\n",
    "client8_model = create_client_model()\n",
    "client9_model = create_client_model()\n",
    "client10_model = create_client_model()\n",
    "\n",
    "client1_model = train_client_model(client1_model, Client_1[0], Client_1[1])\n",
    "client2_model = train_client_model(client2_model, Client_2[0], Client_1[1])\n",
    "client3_model = train_client_model(client3_model, Client_3[0], Client_1[1])\n",
    "client4_model = train_client_model(client4_model, Client_4[0], Client_1[1])\n",
    "client5_model = train_client_model(client5_model, Client_5[0], Client_5[1])\n",
    "client6_model = train_client_model(client6_model, Client_6[0], Client_6[1])\n",
    "client7_model = train_client_model(client7_model, Client_7[0], Client_7[1])\n",
    "client8_model = train_client_model(client8_model, Client_8[0], Client_8[1])\n",
    "client9_model = train_client_model(client9_model, Client_9[0], Client_9[1])\n",
    "client10_model = train_client_model(client10_model, Client_10[0], Client_10[1])"
   ]
  },
  {
   "cell_type": "code",
   "execution_count": 43,
   "metadata": {
    "id": "Fm9f0bc6BKih"
   },
   "outputs": [],
   "source": [
    "# Federated averaging\n",
    "def federated_average_weights(weights1, weights2, weights3, weights4, weights5,\n",
    "                              weights6, weights7, weights8, weights9, weights10):\n",
    "    new_weights = []\n",
    "    for w1, w2, w3, w4, w5, w6, w7, w8, w9, w10 in zip(weights1, weights2, weights3, weights4,\n",
    "                                                      weights5, weights6, weights7, weights8,\n",
    "                                                      weights9, weights10):\n",
    "        new_weights.append((w1 + w2 + w3 + w4 + w5 + w6 + w7 + w8 + w9 + w10) / 10)\n",
    "    return new_weights\n",
    "\n",
    "\n",
    "# Aggregate models\n",
    "aggregated_weights = federated_average_weights(client1_model.get_weights(),\n",
    "                                               client2_model.get_weights(),\n",
    "                                               client3_model.get_weights(),\n",
    "                                               client4_model.get_weights(),\n",
    "                                               client5_model.get_weights(),\n",
    "                                               client6_model.get_weights(),\n",
    "                                               client7_model.get_weights(),\n",
    "                                               client8_model.get_weights(),\n",
    "                                               client9_model.get_weights(),\n",
    "                                               client10_model.get_weights())\n",
    "\n",
    "# Create global model and set weights\n",
    "global_model = create_client_model()\n",
    "global_model.set_weights(aggregated_weights)"
   ]
  },
  {
   "cell_type": "code",
   "execution_count": 44,
   "metadata": {
    "colab": {
     "base_uri": "https://localhost:8080/"
    },
    "id": "P5KT4A0cBKih",
    "outputId": "bf5aa781-008f-47cb-d9c3-b85d554395bf"
   },
   "outputs": [
    {
     "name": "stdout",
     "output_type": "stream",
     "text": [
      "313/313 - 1s - loss: 1.8185 - accuracy: 0.6156 - 760ms/epoch - 2ms/step\n",
      "Test accuracy: 0.6155999898910522\n",
      "313/313 [==============================] - 1s 2ms/step\n",
      "(10000, 10)\n",
      "Accuracy:  0.6156\n",
      "Precision:  0.8012185669772623\n",
      "Recall:  0.6156\n",
      "F-score:  0.5919453723869428\n",
      "              precision    recall  f1-score   support\n",
      "\n",
      "           0       0.99      0.36      0.53       980\n",
      "           1       0.98      0.84      0.90      1135\n",
      "           2       0.61      0.92      0.73      1032\n",
      "           3       0.96      0.57      0.72      1010\n",
      "           4       0.92      0.78      0.85       982\n",
      "           5       0.40      0.80      0.54       892\n",
      "           6       0.97      0.72      0.83       958\n",
      "           7       0.33      0.97      0.49      1028\n",
      "           8       0.98      0.10      0.19       974\n",
      "           9       0.84      0.06      0.11      1009\n",
      "\n",
      "    accuracy                           0.62     10000\n",
      "   macro avg       0.80      0.61      0.59     10000\n",
      "weighted avg       0.80      0.62      0.59     10000\n",
      "\n"
     ]
    }
   ],
   "source": [
    "# Evaluate global model\n",
    "test_loss, test_acc = global_model.evaluate(x_test, y_test, verbose=2)\n",
    "print('Test accuracy:', test_acc)\n",
    "\n",
    "predictions = global_model.predict(x_test)\n",
    "print(predictions.shape)\n",
    "\n",
    "predictions = list(predictions.argmax(axis=1))\n",
    "\n",
    "print(\"Accuracy: \", accuracy_score(y_test, predictions))\n",
    "\n",
    "print(\"Precision: \", precision_score(y_test, predictions, average = 'weighted' ))\n",
    "print(\"Recall: \", recall_score(y_test, predictions, average = 'weighted' ))\n",
    "print(\"F-score: \", f1_score(y_test, predictions, average = 'weighted' ))\n",
    "\n",
    "print(classification_report(y_test, predictions))"
   ]
  },
  {
   "cell_type": "code",
   "execution_count": 45,
   "metadata": {
    "colab": {
     "base_uri": "https://localhost:8080/"
    },
    "id": "q6mZHnR4BKih",
    "outputId": "ce33ab85-b864-4c80-a0f0-3fe13a4d190a"
   },
   "outputs": [
    {
     "name": "stdout",
     "output_type": "stream",
     "text": [
      "[0.923799991607666, 0.3613, 0.5785, 0.7152, 0.6156]\n",
      "[0.9301122801328177, 0.4373540240417135, 0.711910426069019, 0.7993766687932204, 0.8012185669772623]\n",
      "[0.9238, 0.3613, 0.5785, 0.7152, 0.6156]\n",
      "[0.924664971512951, 0.33704356635526345, 0.5256294581541289, 0.6976269237473771, 0.5919453723869428]\n"
     ]
    }
   ],
   "source": [
    "test_accuracy.append(accuracy_score(y_test, predictions))\n",
    "test_precision.append(precision_score(y_test, predictions, average = 'weighted' ))\n",
    "test_recall.append(recall_score(y_test, predictions, average = 'weighted' ))\n",
    "test_f1_score.append(f1_score(y_test, predictions, average = 'weighted' ))\n",
    "\n",
    "print(test_accuracy)\n",
    "print(test_precision)\n",
    "print(test_recall)\n",
    "print(test_f1_score)"
   ]
  },
  {
   "cell_type": "code",
   "execution_count": null,
   "metadata": {
    "id": "rrPinDr9BKih"
   },
   "outputs": [],
   "source": []
  },
  {
   "cell_type": "markdown",
   "metadata": {
    "id": "pHoxrO0tBKih"
   },
   "source": [
    "### Plot the model's performance for the number of clients ranging from 2, 4, 6, 8, and 10."
   ]
  },
  {
   "cell_type": "code",
   "execution_count": 46,
   "metadata": {
    "id": "9r8rXOvgBKih"
   },
   "outputs": [],
   "source": [
    "import pandas as pd"
   ]
  },
  {
   "cell_type": "code",
   "execution_count": 47,
   "metadata": {
    "colab": {
     "base_uri": "https://localhost:8080/",
     "height": 244
    },
    "id": "kiPwbUZkBKih",
    "outputId": "4775907f-e7db-4f90-91f1-b65b8ee7ef68"
   },
   "outputs": [
    {
     "name": "stdout",
     "output_type": "stream",
     "text": [
      "[[0.923799991607666, 0.3613, 0.5785, 0.7152, 0.6156], [0.9301122801328177, 0.4373540240417135, 0.711910426069019, 0.7993766687932204, 0.8012185669772623], [0.9238, 0.3613, 0.5785, 0.7152, 0.6156], [0.924664971512951, 0.33704356635526345, 0.5256294581541289, 0.6976269237473771, 0.5919453723869428]]\n"
     ]
    },
    {
     "data": {
      "text/html": [
       "<div>\n",
       "<style scoped>\n",
       "    .dataframe tbody tr th:only-of-type {\n",
       "        vertical-align: middle;\n",
       "    }\n",
       "\n",
       "    .dataframe tbody tr th {\n",
       "        vertical-align: top;\n",
       "    }\n",
       "\n",
       "    .dataframe thead th {\n",
       "        text-align: right;\n",
       "    }\n",
       "</style>\n",
       "<table border=\"1\" class=\"dataframe\">\n",
       "  <thead>\n",
       "    <tr style=\"text-align: right;\">\n",
       "      <th></th>\n",
       "      <th>Accuracy</th>\n",
       "      <th>Precision</th>\n",
       "      <th>Recall</th>\n",
       "      <th>F1_Score</th>\n",
       "    </tr>\n",
       "  </thead>\n",
       "  <tbody>\n",
       "    <tr>\n",
       "      <th>2</th>\n",
       "      <td>0.9238</td>\n",
       "      <td>0.930112</td>\n",
       "      <td>0.9238</td>\n",
       "      <td>0.924665</td>\n",
       "    </tr>\n",
       "    <tr>\n",
       "      <th>4</th>\n",
       "      <td>0.3613</td>\n",
       "      <td>0.437354</td>\n",
       "      <td>0.3613</td>\n",
       "      <td>0.337044</td>\n",
       "    </tr>\n",
       "    <tr>\n",
       "      <th>6</th>\n",
       "      <td>0.5785</td>\n",
       "      <td>0.711910</td>\n",
       "      <td>0.5785</td>\n",
       "      <td>0.525629</td>\n",
       "    </tr>\n",
       "    <tr>\n",
       "      <th>8</th>\n",
       "      <td>0.7152</td>\n",
       "      <td>0.799377</td>\n",
       "      <td>0.7152</td>\n",
       "      <td>0.697627</td>\n",
       "    </tr>\n",
       "    <tr>\n",
       "      <th>10</th>\n",
       "      <td>0.6156</td>\n",
       "      <td>0.801219</td>\n",
       "      <td>0.6156</td>\n",
       "      <td>0.591945</td>\n",
       "    </tr>\n",
       "  </tbody>\n",
       "</table>\n",
       "</div>"
      ],
      "text/plain": [
       "    Accuracy  Precision  Recall  F1_Score\n",
       "2     0.9238   0.930112  0.9238  0.924665\n",
       "4     0.3613   0.437354  0.3613  0.337044\n",
       "6     0.5785   0.711910  0.5785  0.525629\n",
       "8     0.7152   0.799377  0.7152  0.697627\n",
       "10    0.6156   0.801219  0.6156  0.591945"
      ]
     },
     "execution_count": 47,
     "metadata": {},
     "output_type": "execute_result"
    }
   ],
   "source": [
    "ErrorMetrics = []\n",
    "ErrorMetrics.append(test_accuracy)\n",
    "ErrorMetrics.append(test_precision)\n",
    "ErrorMetrics.append(test_recall)\n",
    "ErrorMetrics.append(test_f1_score)\n",
    "\n",
    "print(ErrorMetrics)\n",
    "\n",
    "ErrorMetrics_pd = pd.DataFrame(ErrorMetrics)\n",
    "ErrorMetrics_pd.columns = [2,4,6,8,10]\n",
    "ErrorMetrics_pd = ErrorMetrics_pd.T\n",
    "ErrorMetrics_pd.columns = ['Accuracy','Precision','Recall','F1_Score']\n",
    "ErrorMetrics_pd"
   ]
  },
  {
   "cell_type": "code",
   "execution_count": 48,
   "metadata": {
    "colab": {
     "base_uri": "https://localhost:8080/",
     "height": 450
    },
    "id": "GjVwCUszBKih",
    "outputId": "cd6da972-c183-45c4-9aae-855c1b0ab5f1"
   },
   "outputs": [
    {
     "data": {
      "text/plain": [
       "<Axes: >"
      ]
     },
     "execution_count": 48,
     "metadata": {},
     "output_type": "execute_result"
    },
    {
     "data": {
      "image/png": "[encoded data removed]",
      "text/plain": [
       "<Figure size 640x480 with 1 Axes>"
      ]
     },
     "metadata": {},
     "output_type": "display_data"
    }
   ],
   "source": [
    "ErrorMetrics_pd.plot.bar(width=0.7, alpha=0.7)"
   ]
  },
  {
   "cell_type": "code",
   "execution_count": null,
   "metadata": {
    "id": "1-b_iK4PBKii"
   },
   "outputs": [],
   "source": []
  },
  {
   "cell_type": "markdown",
   "metadata": {
    "id": "rDTpk5OMBKii"
   },
   "source": [
    "### 2.For any specified number of clients, compare the model's performance when one (or more) dishonest clients are present. Plot the performance metrics before and after the presence of dishonest clients."
   ]
  },
  {
   "cell_type": "markdown",
   "metadata": {
    "id": "jY2nFaDHBKii"
   },
   "source": [
    "#### Take 6 Clients, one of them is assumed dishonest\n",
    "\n"
   ]
  },
  {
   "cell_type": "code",
   "execution_count": 49,
   "metadata": {
    "id": "ZNEvMvNyBKii"
   },
   "outputs": [],
   "source": [
    "# Split data into 6 clients"
   ]
  },
  {
   "cell_type": "code",
   "execution_count": 50,
   "metadata": {
    "id": "4NyLHj2eBKii"
   },
   "outputs": [],
   "source": [
    "Client_1 = (x_train[0:10000], y_train[0:10000])\n",
    "Client_2 = (x_train[10000:20000], y_train[10000:20000])\n",
    "Client_3 = (x_train[20000:30000], y_train[20000:30000])\n",
    "Client_4 = (x_train[30000:40000], y_train[30000:40000])\n",
    "Client_5 = (x_train[40000:50000], y_train[40000:50000])\n",
    "Client_6 = (x_train[50000:], y_train[50000:])"
   ]
  },
  {
   "cell_type": "code",
   "execution_count": 51,
   "metadata": {
    "colab": {
     "base_uri": "https://localhost:8080/"
    },
    "id": "x5fwW42fBKii",
    "outputId": "02667fc1-59cb-4a09-e4b0-8d6deef28fd9"
   },
   "outputs": [
    {
     "data": {
      "text/plain": [
       "10000"
      ]
     },
     "execution_count": 51,
     "metadata": {},
     "output_type": "execute_result"
    }
   ],
   "source": [
    "Client_4[1].size"
   ]
  },
  {
   "cell_type": "code",
   "execution_count": 52,
   "metadata": {
    "colab": {
     "base_uri": "https://localhost:8080/"
    },
    "id": "fJ-u9NAPBKii",
    "outputId": "37af61ad-464e-4ddf-e448-90baec644c4a"
   },
   "outputs": [
    {
     "data": {
      "text/plain": [
       "array([3, 8, 7, ..., 1, 4, 2], dtype=uint8)"
      ]
     },
     "execution_count": 52,
     "metadata": {},
     "output_type": "execute_result"
    }
   ],
   "source": [
    "Client_2[1]"
   ]
  },
  {
   "cell_type": "code",
   "execution_count": 53,
   "metadata": {
    "id": "clu3BH7vBKii"
   },
   "outputs": [],
   "source": [
    "### Client_2 is assumed dishonest and changing the training data. Some labels are set as 4\n",
    "### Change the first 2000 labels\n",
    "\n",
    "Client_4[1][:2000] = 3"
   ]
  },
  {
   "cell_type": "code",
   "execution_count": 54,
   "metadata": {
    "colab": {
     "base_uri": "https://localhost:8080/"
    },
    "id": "GO609oRYBKii",
    "outputId": "a0053081-e0f6-4096-9afd-7f961d84d7ec"
   },
   "outputs": [
    {
     "data": {
      "text/plain": [
       "array([3, 3, 3, ..., 9, 9, 5], dtype=uint8)"
      ]
     },
     "execution_count": 54,
     "metadata": {},
     "output_type": "execute_result"
    }
   ],
   "source": [
    "Client_4[1]"
   ]
  },
  {
   "cell_type": "code",
   "execution_count": 55,
   "metadata": {
    "colab": {
     "base_uri": "https://localhost:8080/"
    },
    "id": "msFw1TLdBKii",
    "outputId": "9cb7728d-64eb-47e5-a657-90e5d51125fe"
   },
   "outputs": [
    {
     "name": "stdout",
     "output_type": "stream",
     "text": [
      "(10000, 28, 28, 1)\n",
      "(10000, 28, 28, 1)\n",
      "(10000, 28, 28, 1)\n",
      "(10000, 28, 28, 1)\n",
      "(10000, 28, 28, 1)\n",
      "(10000, 28, 28, 1)\n",
      "(10000,)\n",
      "(10000,)\n",
      "(10000,)\n",
      "(10000,)\n",
      "(10000,)\n",
      "(10000,)\n"
     ]
    }
   ],
   "source": [
    "print(Client_1[0].shape)\n",
    "print(Client_2[0].shape)\n",
    "print(Client_3[0].shape)\n",
    "print(Client_4[0].shape)\n",
    "print(Client_5[0].shape)\n",
    "print(Client_6[0].shape)\n",
    "\n",
    "print(Client_1[1].shape)\n",
    "print(Client_2[1].shape)\n",
    "print(Client_3[1].shape)\n",
    "print(Client_4[1].shape)\n",
    "print(Client_5[1].shape)\n",
    "print(Client_6[1].shape)"
   ]
  },
  {
   "cell_type": "code",
   "execution_count": 56,
   "metadata": {
    "colab": {
     "base_uri": "https://localhost:8080/"
    },
    "id": "Pi26_bm_BKii",
    "outputId": "eb7a4338-9ab4-4a0c-bbf0-c0c646421b0c"
   },
   "outputs": [
    {
     "name": "stdout",
     "output_type": "stream",
     "text": [
      "Epoch 1/5\n",
      "313/313 [==============================] - 3s 5ms/step - loss: 0.5268 - accuracy: 0.8578\n",
      "Epoch 2/5\n",
      "313/313 [==============================] - 1s 4ms/step - loss: 0.2380 - accuracy: 0.9325\n",
      "Epoch 3/5\n",
      "313/313 [==============================] - 1s 4ms/step - loss: 0.1740 - accuracy: 0.9514\n",
      "Epoch 4/5\n",
      "313/313 [==============================] - 1s 3ms/step - loss: 0.1355 - accuracy: 0.9609\n",
      "Epoch 5/5\n",
      "313/313 [==============================] - 1s 4ms/step - loss: 0.1039 - accuracy: 0.9713\n",
      "Epoch 1/5\n",
      "313/313 [==============================] - 2s 3ms/step - loss: 2.3189 - accuracy: 0.1045\n",
      "Epoch 2/5\n",
      "313/313 [==============================] - 1s 3ms/step - loss: 2.2935 - accuracy: 0.1228\n",
      "Epoch 3/5\n",
      "313/313 [==============================] - 1s 4ms/step - loss: 2.2780 - accuracy: 0.1432\n",
      "Epoch 4/5\n",
      "313/313 [==============================] - 1s 4ms/step - loss: 2.2582 - accuracy: 0.1555\n",
      "Epoch 5/5\n",
      "313/313 [==============================] - 1s 3ms/step - loss: 2.2310 - accuracy: 0.1772\n",
      "Epoch 1/5\n",
      "313/313 [==============================] - 2s 4ms/step - loss: 2.3184 - accuracy: 0.1044\n",
      "Epoch 2/5\n",
      "313/313 [==============================] - 1s 3ms/step - loss: 2.2957 - accuracy: 0.1229\n",
      "Epoch 3/5\n",
      "313/313 [==============================] - 1s 4ms/step - loss: 2.2803 - accuracy: 0.1405\n",
      "Epoch 4/5\n",
      "313/313 [==============================] - 1s 3ms/step - loss: 2.2628 - accuracy: 0.1510\n",
      "Epoch 5/5\n",
      "313/313 [==============================] - 1s 3ms/step - loss: 2.2368 - accuracy: 0.1696\n",
      "Epoch 1/5\n",
      "313/313 [==============================] - 2s 3ms/step - loss: 2.3216 - accuracy: 0.1039\n",
      "Epoch 2/5\n",
      "313/313 [==============================] - 1s 4ms/step - loss: 2.2902 - accuracy: 0.1284\n",
      "Epoch 3/5\n",
      "313/313 [==============================] - 1s 4ms/step - loss: 2.2726 - accuracy: 0.1462\n",
      "Epoch 4/5\n",
      "313/313 [==============================] - 1s 4ms/step - loss: 2.2482 - accuracy: 0.1633\n",
      "Epoch 5/5\n",
      "313/313 [==============================] - 1s 5ms/step - loss: 2.2205 - accuracy: 0.1819\n",
      "Epoch 1/5\n",
      "313/313 [==============================] - 2s 3ms/step - loss: 0.5493 - accuracy: 0.8457\n",
      "Epoch 2/5\n",
      "313/313 [==============================] - 1s 4ms/step - loss: 0.2702 - accuracy: 0.9226\n",
      "Epoch 3/5\n",
      "313/313 [==============================] - 1s 4ms/step - loss: 0.2003 - accuracy: 0.9410\n",
      "Epoch 4/5\n",
      "313/313 [==============================] - 1s 5ms/step - loss: 0.1515 - accuracy: 0.9566\n",
      "Epoch 5/5\n",
      "313/313 [==============================] - 2s 6ms/step - loss: 0.1227 - accuracy: 0.9657\n",
      "Epoch 1/5\n",
      "313/313 [==============================] - 2s 4ms/step - loss: 0.4922 - accuracy: 0.8625\n",
      "Epoch 2/5\n",
      "313/313 [==============================] - 1s 4ms/step - loss: 0.2324 - accuracy: 0.9333\n",
      "Epoch 3/5\n",
      "313/313 [==============================] - 1s 3ms/step - loss: 0.1703 - accuracy: 0.9514\n",
      "Epoch 4/5\n",
      "313/313 [==============================] - 1s 3ms/step - loss: 0.1285 - accuracy: 0.9637\n",
      "Epoch 5/5\n",
      "313/313 [==============================] - 1s 3ms/step - loss: 0.0994 - accuracy: 0.9717\n"
     ]
    }
   ],
   "source": [
    "# Create and train client models\n",
    "client1_model = create_client_model()\n",
    "client2_model = create_client_model()\n",
    "client3_model = create_client_model()\n",
    "client4_model = create_client_model()\n",
    "client5_model = create_client_model()\n",
    "client6_model = create_client_model()\n",
    "\n",
    "client1_model = train_client_model(client1_model, Client_1[0], Client_1[1])\n",
    "client2_model = train_client_model(client2_model, Client_2[0], Client_1[1])\n",
    "client3_model = train_client_model(client3_model, Client_3[0], Client_1[1])\n",
    "client4_model = train_client_model(client4_model, Client_4[0], Client_1[1])\n",
    "client5_model = train_client_model(client5_model, Client_5[0], Client_5[1])\n",
    "client6_model = train_client_model(client6_model, Client_6[0], Client_6[1])"
   ]
  },
  {
   "cell_type": "code",
   "execution_count": 57,
   "metadata": {
    "id": "-xlfDMhsBKii"
   },
   "outputs": [],
   "source": [
    "# Federated averaging\n",
    "def federated_average_weights(weights1, weights2, weights3, weights4, weights5, weights6):\n",
    "    new_weights = []\n",
    "    for w1, w2, w3, w4, w5, w6 in zip(weights1, weights2, weights3, weights4, weights5, weights6):\n",
    "        new_weights.append((w1 + w2 + w3 + w4 + w5 + w6) / 6)\n",
    "    return new_weights\n",
    "\n",
    "\n",
    "# Aggregate models\n",
    "aggregated_weights = federated_average_weights(client1_model.get_weights(),\n",
    "                                               client2_model.get_weights(),\n",
    "                                               client3_model.get_weights(),\n",
    "                                               client4_model.get_weights(),\n",
    "                                               client5_model.get_weights(),\n",
    "                                               client6_model.get_weights())\n",
    "\n",
    "# Create global model and set weights\n",
    "global_model = create_client_model()\n",
    "global_model.set_weights(aggregated_weights)"
   ]
  },
  {
   "cell_type": "code",
   "execution_count": 58,
   "metadata": {
    "colab": {
     "base_uri": "https://localhost:8080/"
    },
    "id": "LspH0lC3BKii",
    "outputId": "4348bf6c-55d6-4f6e-d0d3-c833389190dd"
   },
   "outputs": [
    {
     "name": "stdout",
     "output_type": "stream",
     "text": [
      "313/313 - 1s - loss: 2.0121 - accuracy: 0.7772 - 747ms/epoch - 2ms/step\n",
      "Test accuracy: 0.7771999835968018\n",
      "313/313 [==============================] - 1s 2ms/step\n",
      "(10000, 10)\n",
      "Accuracy:  0.7772\n",
      "Precision:  0.7920064781019767\n",
      "Recall:  0.7772\n",
      "F-score:  0.7759029175417168\n",
      "              precision    recall  f1-score   support\n",
      "\n",
      "           0       0.84      0.84      0.84       980\n",
      "           1       0.90      0.91      0.91      1135\n",
      "           2       0.74      0.75      0.74      1032\n",
      "           3       0.55      0.83      0.66      1010\n",
      "           4       0.77      0.93      0.84       982\n",
      "           5       0.74      0.79      0.76       892\n",
      "           6       0.92      0.83      0.87       958\n",
      "           7       0.85      0.75      0.80      1028\n",
      "           8       0.79      0.48      0.60       974\n",
      "           9       0.81      0.65      0.72      1009\n",
      "\n",
      "    accuracy                           0.78     10000\n",
      "   macro avg       0.79      0.78      0.77     10000\n",
      "weighted avg       0.79      0.78      0.78     10000\n",
      "\n"
     ]
    }
   ],
   "source": [
    "# Evaluate global model\n",
    "test_loss, test_acc = global_model.evaluate(x_test, y_test, verbose=2)\n",
    "print('Test accuracy:', test_acc)\n",
    "\n",
    "predictions = global_model.predict(x_test)\n",
    "print(predictions.shape)\n",
    "\n",
    "predictions = list(predictions.argmax(axis=1))\n",
    "\n",
    "print(\"Accuracy: \", accuracy_score(y_test, predictions))\n",
    "\n",
    "print(\"Precision: \", precision_score(y_test, predictions, average = 'weighted' ))\n",
    "print(\"Recall: \", recall_score(y_test, predictions, average = 'weighted' ))\n",
    "print(\"F-score: \", f1_score(y_test, predictions, average = 'weighted' ))\n",
    "\n",
    "print(classification_report(y_test, predictions))"
   ]
  },
  {
   "cell_type": "code",
   "execution_count": 59,
   "metadata": {
    "id": "5C9xSY8BBKii"
   },
   "outputs": [],
   "source": [
    "test_accuracy_dishonest  = []\n",
    "test_precision_dishonest = []\n",
    "test_recall_dishonest    = []\n",
    "test_f1_score_dishonest  = []"
   ]
  },
  {
   "cell_type": "code",
   "execution_count": 60,
   "metadata": {
    "colab": {
     "base_uri": "https://localhost:8080/"
    },
    "id": "6iBaKfwTBKii",
    "outputId": "d22c0db9-0796-47b7-c87c-8c6157ec19b1"
   },
   "outputs": [
    {
     "name": "stdout",
     "output_type": "stream",
     "text": [
      "[0.6156, 0.7197999954223633]\n",
      "[0.8012185669772623, 0.7649681801937827]\n",
      "[0.6156, 0.7198]\n",
      "[0.5919453723869428, 0.7079021148713025]\n"
     ]
    }
   ],
   "source": [
    "test_accuracy_dishonest.append(test_accuracy[4])\n",
    "test_precision_dishonest.append(test_precision[4])\n",
    "test_recall_dishonest.append(test_recall[4])\n",
    "test_f1_score_dishonest.append(test_f1_score[4])\n",
    "\n",
    "test_accuracy_dishonest.append(0.7197999954223633)\n",
    "test_precision_dishonest.append(0.7649681801937827)\n",
    "test_recall_dishonest.append(0.7198)\n",
    "test_f1_score_dishonest.append(0.7079021148713025)\n",
    "\n",
    "print(test_accuracy_dishonest)\n",
    "print(test_precision_dishonest)\n",
    "print(test_recall_dishonest)\n",
    "print(test_f1_score_dishonest)"
   ]
  },
  {
   "cell_type": "code",
   "execution_count": 61,
   "metadata": {
    "colab": {
     "base_uri": "https://localhost:8080/",
     "height": 129
    },
    "id": "kuQLNgIOBKij",
    "outputId": "27e135b0-d21d-47c8-bc67-706db429401b"
   },
   "outputs": [
    {
     "name": "stdout",
     "output_type": "stream",
     "text": [
      "[[0.6156, 0.7197999954223633], [0.8012185669772623, 0.7649681801937827], [0.6156, 0.7198], [0.5919453723869428, 0.7079021148713025]]\n"
     ]
    },
    {
     "data": {
      "text/html": [
       "<div>\n",
       "<style scoped>\n",
       "    .dataframe tbody tr th:only-of-type {\n",
       "        vertical-align: middle;\n",
       "    }\n",
       "\n",
       "    .dataframe tbody tr th {\n",
       "        vertical-align: top;\n",
       "    }\n",
       "\n",
       "    .dataframe thead th {\n",
       "        text-align: right;\n",
       "    }\n",
       "</style>\n",
       "<table border=\"1\" class=\"dataframe\">\n",
       "  <thead>\n",
       "    <tr style=\"text-align: right;\">\n",
       "      <th></th>\n",
       "      <th>Accuracy</th>\n",
       "      <th>Precision</th>\n",
       "      <th>Recall</th>\n",
       "      <th>F1_Score</th>\n",
       "    </tr>\n",
       "  </thead>\n",
       "  <tbody>\n",
       "    <tr>\n",
       "      <th>Every input is honest</th>\n",
       "      <td>0.6156</td>\n",
       "      <td>0.801219</td>\n",
       "      <td>0.6156</td>\n",
       "      <td>0.591945</td>\n",
       "    </tr>\n",
       "    <tr>\n",
       "      <th>Client 4 is honest</th>\n",
       "      <td>0.7198</td>\n",
       "      <td>0.764968</td>\n",
       "      <td>0.7198</td>\n",
       "      <td>0.707902</td>\n",
       "    </tr>\n",
       "  </tbody>\n",
       "</table>\n",
       "</div>"
      ],
      "text/plain": [
       "                       Accuracy  Precision  Recall  F1_Score\n",
       "Every input is honest    0.6156   0.801219  0.6156  0.591945\n",
       "Client 4 is honest       0.7198   0.764968  0.7198  0.707902"
      ]
     },
     "execution_count": 61,
     "metadata": {},
     "output_type": "execute_result"
    }
   ],
   "source": [
    "### Plot the model's performance for the 6 clients, one of them (number=2) is dishonest\n",
    "\n",
    "ErrorMetrics = []\n",
    "ErrorMetrics.append(test_accuracy_dishonest)\n",
    "ErrorMetrics.append(test_precision_dishonest)\n",
    "ErrorMetrics.append(test_recall_dishonest)\n",
    "ErrorMetrics.append(test_f1_score_dishonest)\n",
    "\n",
    "print(ErrorMetrics)\n",
    "\n",
    "ErrorMetrics_pd = pd.DataFrame(ErrorMetrics)\n",
    "ErrorMetrics_pd.columns = ['Every input is honest', 'Client 4 is honest']\n",
    "ErrorMetrics_pd = ErrorMetrics_pd.T\n",
    "ErrorMetrics_pd.columns = ['Accuracy','Precision','Recall','F1_Score']\n",
    "ErrorMetrics_pd"
   ]
  },
  {
   "cell_type": "code",
   "execution_count": 62,
   "metadata": {
    "colab": {
     "base_uri": "https://localhost:8080/",
     "height": 579
    },
    "id": "oAAoARMHBKij",
    "outputId": "c8d109d6-2d7f-4cf5-bbdc-d8620e85a4c3"
   },
   "outputs": [
    {
     "data": {
      "text/plain": [
       "<Axes: >"
      ]
     },
     "execution_count": 62,
     "metadata": {},
     "output_type": "execute_result"
    },
    {
     "data": {
      "image/png": "[encoded data removed]",
      "text/plain": [
       "<Figure size 640x480 with 1 Axes>"
      ]
     },
     "metadata": {},
     "output_type": "display_data"
    }
   ],
   "source": [
    "ErrorMetrics_pd.plot.bar(width=0.7, alpha=0.7)"
   ]
  },
  {
   "cell_type": "code",
   "execution_count": null,
   "metadata": {
    "id": "wsQqVobwBKij"
   },
   "outputs": [],
   "source": []
  },
  {
   "cell_type": "code",
   "execution_count": null,
   "metadata": {},
   "outputs": [],
   "source": []
  },
  {
   "cell_type": "code",
   "execution_count": null,
   "metadata": {},
   "outputs": [],
   "source": []
  }
 ],
 "metadata": {
  "colab": {
   "provenance": []
  },
  "kernelspec": {
   "display_name": "Python 3 (ipykernel)",
   "language": "python",
   "name": "python3"
  },
  "language_info": {
   "codemirror_mode": {
    "name": "ipython",
    "version": 3
   },
   "file_extension": ".py",
   "mimetype": "text/x-python",
   "name": "python",
   "nbconvert_exporter": "python",
   "pygments_lexer": "ipython3",
   "version": "3.11.5"
  }
 },
 "nbformat": 4,
 "nbformat_minor": 1
}
